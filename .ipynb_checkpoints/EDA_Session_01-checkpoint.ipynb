{
 "cells": [
  {
   "cell_type": "code",
   "execution_count": null,
   "id": "e3aeb1fd-1062-403e-af00-9a3a1402a75a",
   "metadata": {},
   "outputs": [],
   "source": [
    "### Git hub Practice\n",
    "\n",
    "# jst for test"
   ]
  },
  {
   "cell_type": "markdown",
   "id": "748ec09f-7e12-4234-bb98-9fc13d1266ed",
   "metadata": {},
   "source": [
    "============================== Packages for EDA(Exploratory Data Analisys) ==================================\n",
    "1) Pandas : used for Data frame applications (how to read, write, modify data etc)\n",
    "2) Numpy : Numerical python (all math applications are done)\n",
    "3) Matplotlib : used for plotting\n",
    "4) Seaborn : used for plotting\n",
    "5) Plotly : used for plotting\n",
    "6) Bokhe : for plotting\n",
    "\n",
    "============================== Machine Learning =====================================\n",
    "\n",
    "7) Scikit-learn: sklearn\n",
    "\n",
    "============================= Deep Learning ==============================\n",
    "\n",
    "8) Tensorflow : developed by google\n",
    "9) Keras : google\n",
    "10) Pytorch : facebook\n",
    "\n",
    "=========================== NLP ==============================\n",
    "\n",
    "11) NLTK : Natural language tool kit\n",
    "12) Scipy\n",
    "\n",
    "=========================== BERT (Bidirectional encoder representational tranformers) ================================\n",
    "\n",
    "13) Transformers : Hugging face(acquired by google)\n",
    "\n",
    "========================= Google models =============================\n",
    "\n",
    "14) Google specific pacakges\n",
    "\n",
    "======================= Azure ML =============================\n",
    "\n",
    "15) Azure packages\n",
    "\n",
    "======================= Gen AI ===========================\n",
    "\n",
    "16) Gemini : google\n",
    "17) ChatGPT : OpenAI\n",
    "\n",
    "============================= LangChain ==================================\n",
    "\n",
    "18) LangChain Packages"
   ]
  },
  {
   "cell_type": "markdown",
   "id": "c5fa1922-fa59-4327-b3ee-6fa0e943a92d",
   "metadata": {},
   "source": [
    "**Create a Data frame using list**"
   ]
  },
  {
   "cell_type": "markdown",
   "id": "c41fb05f-46a9-4946-8950-3849a3ad299d",
   "metadata": {},
   "source": [
    "$Step-1$:\n",
    "\n",
    "**Create a dataframe**"
   ]
  },
  {
   "cell_type": "code",
   "execution_count": 1,
   "id": "b0bf1481-73e8-4b40-b780-9f7abfc573c5",
   "metadata": {},
   "outputs": [
    {
     "data": {
      "text/html": [
       "<div>\n",
       "<style scoped>\n",
       "    .dataframe tbody tr th:only-of-type {\n",
       "        vertical-align: middle;\n",
       "    }\n",
       "\n",
       "    .dataframe tbody tr th {\n",
       "        vertical-align: top;\n",
       "    }\n",
       "\n",
       "    .dataframe thead th {\n",
       "        text-align: right;\n",
       "    }\n",
       "</style>\n",
       "<table border=\"1\" class=\"dataframe\">\n",
       "  <thead>\n",
       "    <tr style=\"text-align: right;\">\n",
       "      <th></th>\n",
       "    </tr>\n",
       "  </thead>\n",
       "  <tbody>\n",
       "  </tbody>\n",
       "</table>\n",
       "</div>"
      ],
      "text/plain": [
       "Empty DataFrame\n",
       "Columns: []\n",
       "Index: []"
      ]
     },
     "execution_count": 1,
     "metadata": {},
     "output_type": "execute_result"
    }
   ],
   "source": [
    "import pandas as pd\n",
    "names = ['vidya','lalith', 'jaya']\n",
    "pd.DataFrame() # empty dataframe is created (no rows no columns)\n",
    "# dataframe will have rows and columns"
   ]
  },
  {
   "cell_type": "markdown",
   "id": "bdf8eecb-e90b-4df1-99bb-74f2844607f3",
   "metadata": {},
   "source": [
    "$Step-2$\n",
    "\n",
    "**Provide the data**"
   ]
  },
  {
   "cell_type": "code",
   "execution_count": 3,
   "id": "2e149a97-e607-4a73-9d31-462c6dc5f0ba",
   "metadata": {},
   "outputs": [
    {
     "data": {
      "text/html": [
       "<div>\n",
       "<style scoped>\n",
       "    .dataframe tbody tr th:only-of-type {\n",
       "        vertical-align: middle;\n",
       "    }\n",
       "\n",
       "    .dataframe tbody tr th {\n",
       "        vertical-align: top;\n",
       "    }\n",
       "\n",
       "    .dataframe thead th {\n",
       "        text-align: right;\n",
       "    }\n",
       "</style>\n",
       "<table border=\"1\" class=\"dataframe\">\n",
       "  <thead>\n",
       "    <tr style=\"text-align: right;\">\n",
       "      <th></th>\n",
       "      <th>0</th>\n",
       "    </tr>\n",
       "  </thead>\n",
       "  <tbody>\n",
       "    <tr>\n",
       "      <th>0</th>\n",
       "      <td>vidya</td>\n",
       "    </tr>\n",
       "    <tr>\n",
       "      <th>1</th>\n",
       "      <td>lalith</td>\n",
       "    </tr>\n",
       "    <tr>\n",
       "      <th>2</th>\n",
       "      <td>jaya</td>\n",
       "    </tr>\n",
       "  </tbody>\n",
       "</table>\n",
       "</div>"
      ],
      "text/plain": [
       "        0\n",
       "0   vidya\n",
       "1  lalith\n",
       "2    jaya"
      ]
     },
     "execution_count": 3,
     "metadata": {},
     "output_type": "execute_result"
    }
   ],
   "source": [
    "names = ['vidya','lalith','jaya']\n",
    "pd.DataFrame(names)"
   ]
  },
  {
   "cell_type": "code",
   "execution_count": 4,
   "id": "4f42abc1-4400-446c-860f-198d7a836998",
   "metadata": {},
   "outputs": [
    {
     "data": {
      "text/html": [
       "<div>\n",
       "<style scoped>\n",
       "    .dataframe tbody tr th:only-of-type {\n",
       "        vertical-align: middle;\n",
       "    }\n",
       "\n",
       "    .dataframe tbody tr th {\n",
       "        vertical-align: top;\n",
       "    }\n",
       "\n",
       "    .dataframe thead th {\n",
       "        text-align: right;\n",
       "    }\n",
       "</style>\n",
       "<table border=\"1\" class=\"dataframe\">\n",
       "  <thead>\n",
       "    <tr style=\"text-align: right;\">\n",
       "      <th></th>\n",
       "      <th>0</th>\n",
       "    </tr>\n",
       "  </thead>\n",
       "  <tbody>\n",
       "    <tr>\n",
       "      <th>0</th>\n",
       "      <td>20</td>\n",
       "    </tr>\n",
       "    <tr>\n",
       "      <th>1</th>\n",
       "      <td>25</td>\n",
       "    </tr>\n",
       "    <tr>\n",
       "      <th>2</th>\n",
       "      <td>21</td>\n",
       "    </tr>\n",
       "  </tbody>\n",
       "</table>\n",
       "</div>"
      ],
      "text/plain": [
       "    0\n",
       "0  20\n",
       "1  25\n",
       "2  21"
      ]
     },
     "execution_count": 4,
     "metadata": {},
     "output_type": "execute_result"
    }
   ],
   "source": [
    "age = [20,25,21]\n",
    "pd.DataFrame(age)"
   ]
  },
  {
   "cell_type": "code",
   "execution_count": 8,
   "id": "401a85d4-00f2-433d-860a-3a7c33ff32a0",
   "metadata": {},
   "outputs": [
    {
     "data": {
      "text/html": [
       "<div>\n",
       "<style scoped>\n",
       "    .dataframe tbody tr th:only-of-type {\n",
       "        vertical-align: middle;\n",
       "    }\n",
       "\n",
       "    .dataframe tbody tr th {\n",
       "        vertical-align: top;\n",
       "    }\n",
       "\n",
       "    .dataframe thead th {\n",
       "        text-align: right;\n",
       "    }\n",
       "</style>\n",
       "<table border=\"1\" class=\"dataframe\">\n",
       "  <thead>\n",
       "    <tr style=\"text-align: right;\">\n",
       "      <th></th>\n",
       "      <th>0</th>\n",
       "    </tr>\n",
       "  </thead>\n",
       "  <tbody>\n",
       "    <tr>\n",
       "      <th>20</th>\n",
       "      <td>vidya</td>\n",
       "    </tr>\n",
       "    <tr>\n",
       "      <th>25</th>\n",
       "      <td>lalith</td>\n",
       "    </tr>\n",
       "    <tr>\n",
       "      <th>21</th>\n",
       "      <td>jaya</td>\n",
       "    </tr>\n",
       "  </tbody>\n",
       "</table>\n",
       "</div>"
      ],
      "text/plain": [
       "         0\n",
       "20   vidya\n",
       "25  lalith\n",
       "21    jaya"
      ]
     },
     "execution_count": 8,
     "metadata": {},
     "output_type": "execute_result"
    }
   ],
   "source": [
    "names = ['vidya','lalith','jaya']\n",
    "age = [20,25,21]\n",
    "pd.DataFrame(names, age)\n",
    "# what is the 1st positional argument? Ans: Data\n",
    "# what is the 2nd positional argument? Ans:index\n",
    "# so here the age is taken as index automatically"
   ]
  },
  {
   "cell_type": "code",
   "execution_count": 9,
   "id": "fb4cf0df-51de-4241-ab73-c0808e6556f5",
   "metadata": {},
   "outputs": [
    {
     "data": {
      "text/html": [
       "<div>\n",
       "<style scoped>\n",
       "    .dataframe tbody tr th:only-of-type {\n",
       "        vertical-align: middle;\n",
       "    }\n",
       "\n",
       "    .dataframe tbody tr th {\n",
       "        vertical-align: top;\n",
       "    }\n",
       "\n",
       "    .dataframe thead th {\n",
       "        text-align: right;\n",
       "    }\n",
       "</style>\n",
       "<table border=\"1\" class=\"dataframe\">\n",
       "  <thead>\n",
       "    <tr style=\"text-align: right;\">\n",
       "      <th></th>\n",
       "      <th>0</th>\n",
       "      <th>1</th>\n",
       "    </tr>\n",
       "  </thead>\n",
       "  <tbody>\n",
       "    <tr>\n",
       "      <th>0</th>\n",
       "      <td>vidya</td>\n",
       "      <td>20</td>\n",
       "    </tr>\n",
       "    <tr>\n",
       "      <th>1</th>\n",
       "      <td>lalith</td>\n",
       "      <td>25</td>\n",
       "    </tr>\n",
       "    <tr>\n",
       "      <th>2</th>\n",
       "      <td>jaya</td>\n",
       "      <td>21</td>\n",
       "    </tr>\n",
       "  </tbody>\n",
       "</table>\n",
       "</div>"
      ],
      "text/plain": [
       "        0   1\n",
       "0   vidya  20\n",
       "1  lalith  25\n",
       "2    jaya  21"
      ]
     },
     "execution_count": 9,
     "metadata": {},
     "output_type": "execute_result"
    }
   ],
   "source": [
    "names = ['vidya','lalith','jaya']\n",
    "age = [20,25,21]\n",
    "pd.DataFrame(zip(names, age))\n",
    "# what is the 1st positional argument? Ans: Data\n",
    "# what is the 2nd positional argument? Ans:index\n",
    "# so here the age is taken as index automatically\n",
    "# so do zip the input data, so it will be considered as a whole one"
   ]
  },
  {
   "cell_type": "code",
   "execution_count": 10,
   "id": "17015481-6ffa-479e-805b-24e7e1ddfc47",
   "metadata": {},
   "outputs": [
    {
     "data": {
      "text/html": [
       "<div>\n",
       "<style scoped>\n",
       "    .dataframe tbody tr th:only-of-type {\n",
       "        vertical-align: middle;\n",
       "    }\n",
       "\n",
       "    .dataframe tbody tr th {\n",
       "        vertical-align: top;\n",
       "    }\n",
       "\n",
       "    .dataframe thead th {\n",
       "        text-align: right;\n",
       "    }\n",
       "</style>\n",
       "<table border=\"1\" class=\"dataframe\">\n",
       "  <thead>\n",
       "    <tr style=\"text-align: right;\">\n",
       "      <th></th>\n",
       "      <th>0</th>\n",
       "      <th>1</th>\n",
       "      <th>2</th>\n",
       "    </tr>\n",
       "  </thead>\n",
       "  <tbody>\n",
       "    <tr>\n",
       "      <th>0</th>\n",
       "      <td>vidya</td>\n",
       "      <td>20</td>\n",
       "      <td>hyd</td>\n",
       "    </tr>\n",
       "    <tr>\n",
       "      <th>1</th>\n",
       "      <td>lalith</td>\n",
       "      <td>25</td>\n",
       "      <td>chennai</td>\n",
       "    </tr>\n",
       "    <tr>\n",
       "      <th>2</th>\n",
       "      <td>jaya</td>\n",
       "      <td>21</td>\n",
       "      <td>blr</td>\n",
       "    </tr>\n",
       "  </tbody>\n",
       "</table>\n",
       "</div>"
      ],
      "text/plain": [
       "        0   1        2\n",
       "0   vidya  20      hyd\n",
       "1  lalith  25  chennai\n",
       "2    jaya  21      blr"
      ]
     },
     "execution_count": 10,
     "metadata": {},
     "output_type": "execute_result"
    }
   ],
   "source": [
    "names = ['vidya','lalith','jaya']\n",
    "age = [20,25,21]\n",
    "city = ['hyd','chennai','blr']\n",
    "pd.DataFrame(zip(names, age,city))"
   ]
  },
  {
   "cell_type": "code",
   "execution_count": 14,
   "id": "c0c9245b-4745-4d06-8cdb-d50ca3797506",
   "metadata": {},
   "outputs": [
    {
     "data": {
      "text/html": [
       "<div>\n",
       "<style scoped>\n",
       "    .dataframe tbody tr th:only-of-type {\n",
       "        vertical-align: middle;\n",
       "    }\n",
       "\n",
       "    .dataframe tbody tr th {\n",
       "        vertical-align: top;\n",
       "    }\n",
       "\n",
       "    .dataframe thead th {\n",
       "        text-align: right;\n",
       "    }\n",
       "</style>\n",
       "<table border=\"1\" class=\"dataframe\">\n",
       "  <thead>\n",
       "    <tr style=\"text-align: right;\">\n",
       "      <th></th>\n",
       "      <th>0</th>\n",
       "      <th>1</th>\n",
       "      <th>2</th>\n",
       "    </tr>\n",
       "  </thead>\n",
       "  <tbody>\n",
       "    <tr>\n",
       "      <th>0</th>\n",
       "      <td>vidya</td>\n",
       "      <td>20</td>\n",
       "      <td>hyd</td>\n",
       "    </tr>\n",
       "    <tr>\n",
       "      <th>1</th>\n",
       "      <td>lalith</td>\n",
       "      <td>25</td>\n",
       "      <td>chennai</td>\n",
       "    </tr>\n",
       "    <tr>\n",
       "      <th>2</th>\n",
       "      <td>jaya</td>\n",
       "      <td>21</td>\n",
       "      <td>blr</td>\n",
       "    </tr>\n",
       "  </tbody>\n",
       "</table>\n",
       "</div>"
      ],
      "text/plain": [
       "        0   1        2\n",
       "0   vidya  20      hyd\n",
       "1  lalith  25  chennai\n",
       "2    jaya  21      blr"
      ]
     },
     "execution_count": 14,
     "metadata": {},
     "output_type": "execute_result"
    }
   ],
   "source": [
    "names = ['vidya','lalith','jaya']\n",
    "age = [20,25,21]\n",
    "city = ['hyd','chennai','blr']\n",
    "data = zip(names, age,city)\n",
    "pd.DataFrame(data)"
   ]
  },
  {
   "cell_type": "code",
   "execution_count": 12,
   "id": "e3df851c-7545-4b7d-bb01-1892393c3020",
   "metadata": {},
   "outputs": [
    {
     "data": {
      "text/html": [
       "<div>\n",
       "<style scoped>\n",
       "    .dataframe tbody tr th:only-of-type {\n",
       "        vertical-align: middle;\n",
       "    }\n",
       "\n",
       "    .dataframe tbody tr th {\n",
       "        vertical-align: top;\n",
       "    }\n",
       "\n",
       "    .dataframe thead th {\n",
       "        text-align: right;\n",
       "    }\n",
       "</style>\n",
       "<table border=\"1\" class=\"dataframe\">\n",
       "  <thead>\n",
       "    <tr style=\"text-align: right;\">\n",
       "      <th></th>\n",
       "      <th>0</th>\n",
       "      <th>1</th>\n",
       "      <th>2</th>\n",
       "    </tr>\n",
       "  </thead>\n",
       "  <tbody>\n",
       "    <tr>\n",
       "      <th>0</th>\n",
       "      <td>vidya</td>\n",
       "      <td>20</td>\n",
       "      <td>hyd</td>\n",
       "    </tr>\n",
       "    <tr>\n",
       "      <th>1</th>\n",
       "      <td>lalith</td>\n",
       "      <td>25</td>\n",
       "      <td>chennai</td>\n",
       "    </tr>\n",
       "  </tbody>\n",
       "</table>\n",
       "</div>"
      ],
      "text/plain": [
       "        0   1        2\n",
       "0   vidya  20      hyd\n",
       "1  lalith  25  chennai"
      ]
     },
     "execution_count": 12,
     "metadata": {},
     "output_type": "execute_result"
    }
   ],
   "source": [
    "names = ['vidya','lalith','jaya']\n",
    "age = [20,25]\n",
    "city = ['hyd','chennai','blr']\n",
    "pd.DataFrame(zip(names, age,city))\n",
    "# if sizes are not equal we get mini size of output"
   ]
  },
  {
   "cell_type": "markdown",
   "id": "2ca4882f-5cef-436b-804e-4facec1964b8",
   "metadata": {},
   "source": [
    "$Step-3$\n",
    "\n",
    "**Provide the column names**"
   ]
  },
  {
   "cell_type": "code",
   "execution_count": 13,
   "id": "0a4fb096-0905-44c5-823f-42d865df8e54",
   "metadata": {},
   "outputs": [
    {
     "data": {
      "text/html": [
       "<div>\n",
       "<style scoped>\n",
       "    .dataframe tbody tr th:only-of-type {\n",
       "        vertical-align: middle;\n",
       "    }\n",
       "\n",
       "    .dataframe tbody tr th {\n",
       "        vertical-align: top;\n",
       "    }\n",
       "\n",
       "    .dataframe thead th {\n",
       "        text-align: right;\n",
       "    }\n",
       "</style>\n",
       "<table border=\"1\" class=\"dataframe\">\n",
       "  <thead>\n",
       "    <tr style=\"text-align: right;\">\n",
       "      <th></th>\n",
       "      <th>names</th>\n",
       "      <th>age</th>\n",
       "      <th>city</th>\n",
       "    </tr>\n",
       "  </thead>\n",
       "  <tbody>\n",
       "    <tr>\n",
       "      <th>0</th>\n",
       "      <td>vidya</td>\n",
       "      <td>20</td>\n",
       "      <td>hyd</td>\n",
       "    </tr>\n",
       "    <tr>\n",
       "      <th>1</th>\n",
       "      <td>lalith</td>\n",
       "      <td>25</td>\n",
       "      <td>chennai</td>\n",
       "    </tr>\n",
       "    <tr>\n",
       "      <th>2</th>\n",
       "      <td>jaya</td>\n",
       "      <td>21</td>\n",
       "      <td>blr</td>\n",
       "    </tr>\n",
       "  </tbody>\n",
       "</table>\n",
       "</div>"
      ],
      "text/plain": [
       "    names  age     city\n",
       "0   vidya   20      hyd\n",
       "1  lalith   25  chennai\n",
       "2    jaya   21      blr"
      ]
     },
     "execution_count": 13,
     "metadata": {},
     "output_type": "execute_result"
    }
   ],
   "source": [
    "names = ['vidya','lalith','jaya']\n",
    "age = [20,25,21]\n",
    "city = ['hyd','chennai','blr']\n",
    "pd.DataFrame(zip(names, age,city), columns=['names','age','city'])"
   ]
  },
  {
   "cell_type": "code",
   "execution_count": 16,
   "id": "620df0a8-9f28-41bd-b595-1bb5b54bf975",
   "metadata": {},
   "outputs": [
    {
     "data": {
      "text/html": [
       "<div>\n",
       "<style scoped>\n",
       "    .dataframe tbody tr th:only-of-type {\n",
       "        vertical-align: middle;\n",
       "    }\n",
       "\n",
       "    .dataframe tbody tr th {\n",
       "        vertical-align: top;\n",
       "    }\n",
       "\n",
       "    .dataframe thead th {\n",
       "        text-align: right;\n",
       "    }\n",
       "</style>\n",
       "<table border=\"1\" class=\"dataframe\">\n",
       "  <thead>\n",
       "    <tr style=\"text-align: right;\">\n",
       "      <th></th>\n",
       "      <th>names</th>\n",
       "      <th>age</th>\n",
       "      <th>city</th>\n",
       "    </tr>\n",
       "  </thead>\n",
       "  <tbody>\n",
       "    <tr>\n",
       "      <th>0</th>\n",
       "      <td>vidya</td>\n",
       "      <td>20</td>\n",
       "      <td>hyd</td>\n",
       "    </tr>\n",
       "    <tr>\n",
       "      <th>1</th>\n",
       "      <td>lalith</td>\n",
       "      <td>25</td>\n",
       "      <td>chennai</td>\n",
       "    </tr>\n",
       "    <tr>\n",
       "      <th>2</th>\n",
       "      <td>jaya</td>\n",
       "      <td>21</td>\n",
       "      <td>blr</td>\n",
       "    </tr>\n",
       "  </tbody>\n",
       "</table>\n",
       "</div>"
      ],
      "text/plain": [
       "    names  age     city\n",
       "0   vidya   20      hyd\n",
       "1  lalith   25  chennai\n",
       "2    jaya   21      blr"
      ]
     },
     "execution_count": 16,
     "metadata": {},
     "output_type": "execute_result"
    }
   ],
   "source": [
    "names = ['vidya','lalith','jaya']\n",
    "age = [20,25,21]\n",
    "city = ['hyd','chennai','blr']\n",
    "\n",
    "data = zip(names, age,city)\n",
    "cols = ['names','age','city']\n",
    "pd.DataFrame(data, columns=cols)"
   ]
  },
  {
   "cell_type": "markdown",
   "id": "8d04ed54-96f0-493e-b5bd-0e071054b787",
   "metadata": {},
   "source": [
    "$Step-4$\n",
    "\n",
    "**Add new column for already exsisting dataframe**"
   ]
  },
  {
   "cell_type": "code",
   "execution_count": 17,
   "id": "96ab4a8a-1c99-4ae2-8773-febd8b0ab3ef",
   "metadata": {},
   "outputs": [],
   "source": [
    "names = ['vidya','lalith','jaya']\n",
    "age = [20,25,21]\n",
    "city = ['hyd','chennai','blr']\n",
    "\n",
    "data = zip(names, age,city)\n",
    "cols = ['names','age','city']\n",
    "df = pd.DataFrame(data, columns=cols)"
   ]
  },
  {
   "cell_type": "code",
   "execution_count": 18,
   "id": "09b809d6-8b9d-4a4f-a054-935d0181130f",
   "metadata": {},
   "outputs": [
    {
     "data": {
      "text/plain": [
       "pandas.core.frame.DataFrame"
      ]
     },
     "execution_count": 18,
     "metadata": {},
     "output_type": "execute_result"
    }
   ],
   "source": [
    "type(df)"
   ]
  },
  {
   "cell_type": "markdown",
   "id": "22ac9c17-383c-4ec3-bbff-6ede0351d8a8",
   "metadata": {},
   "source": [
    "- To add new column in existed data\n",
    "- You need to check the number of rows in already existed data\n",
    "- For example: In above, dataframe has 3 rows\n",
    "- You need to create a new list with 3 rows\n",
    "- That list equate to dataframe"
   ]
  },
  {
   "cell_type": "code",
   "execution_count": 20,
   "id": "d4c221f6-1d75-455f-8a16-8754c6c39f74",
   "metadata": {},
   "outputs": [
    {
     "data": {
      "text/html": [
       "<div>\n",
       "<style scoped>\n",
       "    .dataframe tbody tr th:only-of-type {\n",
       "        vertical-align: middle;\n",
       "    }\n",
       "\n",
       "    .dataframe tbody tr th {\n",
       "        vertical-align: top;\n",
       "    }\n",
       "\n",
       "    .dataframe thead th {\n",
       "        text-align: right;\n",
       "    }\n",
       "</style>\n",
       "<table border=\"1\" class=\"dataframe\">\n",
       "  <thead>\n",
       "    <tr style=\"text-align: right;\">\n",
       "      <th></th>\n",
       "      <th>names</th>\n",
       "      <th>age</th>\n",
       "      <th>city</th>\n",
       "      <th>job</th>\n",
       "    </tr>\n",
       "  </thead>\n",
       "  <tbody>\n",
       "    <tr>\n",
       "      <th>0</th>\n",
       "      <td>vidya</td>\n",
       "      <td>20</td>\n",
       "      <td>hyd</td>\n",
       "      <td>DS</td>\n",
       "    </tr>\n",
       "    <tr>\n",
       "      <th>1</th>\n",
       "      <td>lalith</td>\n",
       "      <td>25</td>\n",
       "      <td>chennai</td>\n",
       "      <td>DE</td>\n",
       "    </tr>\n",
       "    <tr>\n",
       "      <th>2</th>\n",
       "      <td>jaya</td>\n",
       "      <td>21</td>\n",
       "      <td>blr</td>\n",
       "      <td>CS</td>\n",
       "    </tr>\n",
       "  </tbody>\n",
       "</table>\n",
       "</div>"
      ],
      "text/plain": [
       "    names  age     city job\n",
       "0   vidya   20      hyd  DS\n",
       "1  lalith   25  chennai  DE\n",
       "2    jaya   21      blr  CS"
      ]
     },
     "execution_count": 20,
     "metadata": {},
     "output_type": "execute_result"
    }
   ],
   "source": [
    "job = ['DS','DE','CS']\n",
    "df['job'] = job\n",
    "df\n",
    "\n",
    "# we can simply give list directly\n",
    "# df['job'] = ['DS','DE','CS']\n",
    "# df"
   ]
  },
  {
   "cell_type": "markdown",
   "id": "2b81c5b2-9654-467f-b159-33a5f2dc5a05",
   "metadata": {},
   "source": [
    "$Step - 5$\n",
    "\n",
    "**To change/update any column values in existing column**\n",
    "\n",
    "- creating and updating column are same"
   ]
  },
  {
   "cell_type": "code",
   "execution_count": 21,
   "id": "282bf8bd-70fc-4371-9347-84233d8f57c9",
   "metadata": {},
   "outputs": [
    {
     "data": {
      "text/html": [
       "<div>\n",
       "<style scoped>\n",
       "    .dataframe tbody tr th:only-of-type {\n",
       "        vertical-align: middle;\n",
       "    }\n",
       "\n",
       "    .dataframe tbody tr th {\n",
       "        vertical-align: top;\n",
       "    }\n",
       "\n",
       "    .dataframe thead th {\n",
       "        text-align: right;\n",
       "    }\n",
       "</style>\n",
       "<table border=\"1\" class=\"dataframe\">\n",
       "  <thead>\n",
       "    <tr style=\"text-align: right;\">\n",
       "      <th></th>\n",
       "      <th>names</th>\n",
       "      <th>age</th>\n",
       "      <th>city</th>\n",
       "      <th>job</th>\n",
       "    </tr>\n",
       "  </thead>\n",
       "  <tbody>\n",
       "    <tr>\n",
       "      <th>0</th>\n",
       "      <td>vidya</td>\n",
       "      <td>25</td>\n",
       "      <td>hyd</td>\n",
       "      <td>DS</td>\n",
       "    </tr>\n",
       "    <tr>\n",
       "      <th>1</th>\n",
       "      <td>lalith</td>\n",
       "      <td>24</td>\n",
       "      <td>chennai</td>\n",
       "      <td>DE</td>\n",
       "    </tr>\n",
       "    <tr>\n",
       "      <th>2</th>\n",
       "      <td>jaya</td>\n",
       "      <td>23</td>\n",
       "      <td>blr</td>\n",
       "      <td>CS</td>\n",
       "    </tr>\n",
       "  </tbody>\n",
       "</table>\n",
       "</div>"
      ],
      "text/plain": [
       "    names  age     city job\n",
       "0   vidya   25      hyd  DS\n",
       "1  lalith   24  chennai  DE\n",
       "2    jaya   23      blr  CS"
      ]
     },
     "execution_count": 21,
     "metadata": {},
     "output_type": "execute_result"
    }
   ],
   "source": [
    "df['age'] = [25,24,23]\n",
    "df"
   ]
  },
  {
   "cell_type": "markdown",
   "id": "a43245ec-f3f4-4a7f-9d4c-c452d50146da",
   "metadata": {},
   "source": [
    "$Step - 6$\n",
    "\n",
    "**How to change the index**"
   ]
  },
  {
   "cell_type": "code",
   "execution_count": 23,
   "id": "5243504b-59db-4d36-bd33-3c6fee63991c",
   "metadata": {},
   "outputs": [
    {
     "data": {
      "text/html": [
       "<div>\n",
       "<style scoped>\n",
       "    .dataframe tbody tr th:only-of-type {\n",
       "        vertical-align: middle;\n",
       "    }\n",
       "\n",
       "    .dataframe tbody tr th {\n",
       "        vertical-align: top;\n",
       "    }\n",
       "\n",
       "    .dataframe thead th {\n",
       "        text-align: right;\n",
       "    }\n",
       "</style>\n",
       "<table border=\"1\" class=\"dataframe\">\n",
       "  <thead>\n",
       "    <tr style=\"text-align: right;\">\n",
       "      <th></th>\n",
       "      <th>names</th>\n",
       "      <th>age</th>\n",
       "      <th>city</th>\n",
       "    </tr>\n",
       "  </thead>\n",
       "  <tbody>\n",
       "    <tr>\n",
       "      <th>A</th>\n",
       "      <td>vidya</td>\n",
       "      <td>20</td>\n",
       "      <td>hyd</td>\n",
       "    </tr>\n",
       "    <tr>\n",
       "      <th>B</th>\n",
       "      <td>lalith</td>\n",
       "      <td>25</td>\n",
       "      <td>chennai</td>\n",
       "    </tr>\n",
       "    <tr>\n",
       "      <th>C</th>\n",
       "      <td>jaya</td>\n",
       "      <td>21</td>\n",
       "      <td>blr</td>\n",
       "    </tr>\n",
       "  </tbody>\n",
       "</table>\n",
       "</div>"
      ],
      "text/plain": [
       "    names  age     city\n",
       "A   vidya   20      hyd\n",
       "B  lalith   25  chennai\n",
       "C    jaya   21      blr"
      ]
     },
     "execution_count": 23,
     "metadata": {},
     "output_type": "execute_result"
    }
   ],
   "source": [
    "names = ['vidya','lalith','jaya']\n",
    "age = [20,25,21]\n",
    "city = ['hyd','chennai','blr']\n",
    "\n",
    "data = zip(names, age,city)\n",
    "cols = ['names','age','city']\n",
    "idx = ['A','B','C']\n",
    "\n",
    "df = pd.DataFrame(data, idx, columns=cols)\n",
    "df"
   ]
  },
  {
   "cell_type": "markdown",
   "id": "a37d63bf-29b0-4da5-a1e7-d4a3fdb7b8ac",
   "metadata": {},
   "source": [
    "**Note**\n",
    "  \n",
    "- no. of list = no. of columns\n",
    "- no. of values inside list = no. of rows\n",
    "- when you create data all the lists should be of same length"
   ]
  },
  {
   "cell_type": "markdown",
   "id": "911d90b5-0b22-4a54-8793-afe2ab69995f",
   "metadata": {},
   "source": [
    "$Step-7$\n",
    "\n",
    "**Shape**\n",
    "- shape means number of rows, number od coulmns"
   ]
  },
  {
   "cell_type": "code",
   "execution_count": 25,
   "id": "b55b9021-7076-4927-85b8-fa2fc834c7dc",
   "metadata": {},
   "outputs": [
    {
     "name": "stdout",
     "output_type": "stream",
     "text": [
      "the number of rows are:  3\n",
      "the number of rows are:  3\n"
     ]
    }
   ],
   "source": [
    "df.shape\n",
    "# matric format (3*3)\n",
    "print(\"the number of rows are: \",df.shape[0])\n",
    "print(\"the number of rows are: \",df.shape[1])"
   ]
  },
  {
   "cell_type": "markdown",
   "id": "718c3c46-0fb6-40f3-8de1-62594382a61b",
   "metadata": {},
   "source": [
    "$Step-8$\n",
    "\n",
    "**Drop the column**\n",
    "\n",
    "- In order to drop a column, we need 3 parameters\n",
    "- Column name\n",
    "    - which column we need to drop that column name\n",
    "- axis\n",
    "    - axis = 0 means **rows**\n",
    "    - axis = 1 means **column**\n",
    "      \n",
    "- inplace\n",
    "    - we are droping the column means we modifying the dataframe\n",
    "    - so this modifications we want to save in same varilabe or in different varibale\n",
    "    - if you want to keep in same variable then **inplace = True**"
   ]
  },
  {
   "cell_type": "code",
   "execution_count": 37,
   "id": "071c25f2-8bab-4b97-8412-df7be3fdb853",
   "metadata": {},
   "outputs": [
    {
     "data": {
      "text/html": [
       "<div>\n",
       "<style scoped>\n",
       "    .dataframe tbody tr th:only-of-type {\n",
       "        vertical-align: middle;\n",
       "    }\n",
       "\n",
       "    .dataframe tbody tr th {\n",
       "        vertical-align: top;\n",
       "    }\n",
       "\n",
       "    .dataframe thead th {\n",
       "        text-align: right;\n",
       "    }\n",
       "</style>\n",
       "<table border=\"1\" class=\"dataframe\">\n",
       "  <thead>\n",
       "    <tr style=\"text-align: right;\">\n",
       "      <th></th>\n",
       "      <th>names</th>\n",
       "      <th>age</th>\n",
       "      <th>city</th>\n",
       "      <th>job</th>\n",
       "    </tr>\n",
       "  </thead>\n",
       "  <tbody>\n",
       "    <tr>\n",
       "      <th>0</th>\n",
       "      <td>vidya</td>\n",
       "      <td>20</td>\n",
       "      <td>hyd</td>\n",
       "      <td>DS</td>\n",
       "    </tr>\n",
       "    <tr>\n",
       "      <th>1</th>\n",
       "      <td>lalith</td>\n",
       "      <td>25</td>\n",
       "      <td>chennai</td>\n",
       "      <td>DE</td>\n",
       "    </tr>\n",
       "    <tr>\n",
       "      <th>2</th>\n",
       "      <td>jaya</td>\n",
       "      <td>21</td>\n",
       "      <td>blr</td>\n",
       "      <td>CS</td>\n",
       "    </tr>\n",
       "  </tbody>\n",
       "</table>\n",
       "</div>"
      ],
      "text/plain": [
       "    names  age     city job\n",
       "0   vidya   20      hyd  DS\n",
       "1  lalith   25  chennai  DE\n",
       "2    jaya   21      blr  CS"
      ]
     },
     "execution_count": 37,
     "metadata": {},
     "output_type": "execute_result"
    }
   ],
   "source": [
    "names = ['vidya','lalith','jaya']\n",
    "age = [20,25,21]\n",
    "city = ['hyd','chennai','blr']\n",
    "\n",
    "data = zip(names, age,city)\n",
    "cols = ['names','age','city']\n",
    "df = pd.DataFrame(data, columns=cols)\n",
    "\n",
    "job = ['DS','DE','CS']\n",
    "df['job'] = job\n",
    "df"
   ]
  },
  {
   "cell_type": "code",
   "execution_count": 38,
   "id": "68e39cf7-a49a-4392-8a62-3e0d1a0ddce3",
   "metadata": {},
   "outputs": [],
   "source": [
    "df.drop('job',axis = 1, inplace = True)"
   ]
  },
  {
   "cell_type": "code",
   "execution_count": 39,
   "id": "c92c7d04-efff-4a31-8281-c8d65ba5f422",
   "metadata": {},
   "outputs": [
    {
     "data": {
      "text/html": [
       "<div>\n",
       "<style scoped>\n",
       "    .dataframe tbody tr th:only-of-type {\n",
       "        vertical-align: middle;\n",
       "    }\n",
       "\n",
       "    .dataframe tbody tr th {\n",
       "        vertical-align: top;\n",
       "    }\n",
       "\n",
       "    .dataframe thead th {\n",
       "        text-align: right;\n",
       "    }\n",
       "</style>\n",
       "<table border=\"1\" class=\"dataframe\">\n",
       "  <thead>\n",
       "    <tr style=\"text-align: right;\">\n",
       "      <th></th>\n",
       "      <th>names</th>\n",
       "      <th>age</th>\n",
       "      <th>city</th>\n",
       "    </tr>\n",
       "  </thead>\n",
       "  <tbody>\n",
       "    <tr>\n",
       "      <th>0</th>\n",
       "      <td>vidya</td>\n",
       "      <td>20</td>\n",
       "      <td>hyd</td>\n",
       "    </tr>\n",
       "    <tr>\n",
       "      <th>1</th>\n",
       "      <td>lalith</td>\n",
       "      <td>25</td>\n",
       "      <td>chennai</td>\n",
       "    </tr>\n",
       "    <tr>\n",
       "      <th>2</th>\n",
       "      <td>jaya</td>\n",
       "      <td>21</td>\n",
       "      <td>blr</td>\n",
       "    </tr>\n",
       "  </tbody>\n",
       "</table>\n",
       "</div>"
      ],
      "text/plain": [
       "    names  age     city\n",
       "0   vidya   20      hyd\n",
       "1  lalith   25  chennai\n",
       "2    jaya   21      blr"
      ]
     },
     "execution_count": 39,
     "metadata": {},
     "output_type": "execute_result"
    }
   ],
   "source": [
    "df"
   ]
  },
  {
   "cell_type": "code",
   "execution_count": 40,
   "id": "f6364c10-0bbd-462a-8001-27de3bbc7d07",
   "metadata": {},
   "outputs": [],
   "source": [
    "df1 = df.drop('city',axis = 1)\n",
    "# here inplace is not True, so df wont be updated with dropped column"
   ]
  },
  {
   "cell_type": "code",
   "execution_count": 41,
   "id": "9dd078d1-821b-4d90-ac00-4154226cb19a",
   "metadata": {},
   "outputs": [
    {
     "data": {
      "text/html": [
       "<div>\n",
       "<style scoped>\n",
       "    .dataframe tbody tr th:only-of-type {\n",
       "        vertical-align: middle;\n",
       "    }\n",
       "\n",
       "    .dataframe tbody tr th {\n",
       "        vertical-align: top;\n",
       "    }\n",
       "\n",
       "    .dataframe thead th {\n",
       "        text-align: right;\n",
       "    }\n",
       "</style>\n",
       "<table border=\"1\" class=\"dataframe\">\n",
       "  <thead>\n",
       "    <tr style=\"text-align: right;\">\n",
       "      <th></th>\n",
       "      <th>names</th>\n",
       "      <th>age</th>\n",
       "      <th>city</th>\n",
       "    </tr>\n",
       "  </thead>\n",
       "  <tbody>\n",
       "    <tr>\n",
       "      <th>0</th>\n",
       "      <td>vidya</td>\n",
       "      <td>20</td>\n",
       "      <td>hyd</td>\n",
       "    </tr>\n",
       "    <tr>\n",
       "      <th>1</th>\n",
       "      <td>lalith</td>\n",
       "      <td>25</td>\n",
       "      <td>chennai</td>\n",
       "    </tr>\n",
       "    <tr>\n",
       "      <th>2</th>\n",
       "      <td>jaya</td>\n",
       "      <td>21</td>\n",
       "      <td>blr</td>\n",
       "    </tr>\n",
       "  </tbody>\n",
       "</table>\n",
       "</div>"
      ],
      "text/plain": [
       "    names  age     city\n",
       "0   vidya   20      hyd\n",
       "1  lalith   25  chennai\n",
       "2    jaya   21      blr"
      ]
     },
     "execution_count": 41,
     "metadata": {},
     "output_type": "execute_result"
    }
   ],
   "source": [
    "df"
   ]
  },
  {
   "cell_type": "code",
   "execution_count": 42,
   "id": "323cbdd2-61cb-445a-b8d4-76997e2e2002",
   "metadata": {
    "jp-MarkdownHeadingCollapsed": true
   },
   "outputs": [
    {
     "data": {
      "text/html": [
       "<div>\n",
       "<style scoped>\n",
       "    .dataframe tbody tr th:only-of-type {\n",
       "        vertical-align: middle;\n",
       "    }\n",
       "\n",
       "    .dataframe tbody tr th {\n",
       "        vertical-align: top;\n",
       "    }\n",
       "\n",
       "    .dataframe thead th {\n",
       "        text-align: right;\n",
       "    }\n",
       "</style>\n",
       "<table border=\"1\" class=\"dataframe\">\n",
       "  <thead>\n",
       "    <tr style=\"text-align: right;\">\n",
       "      <th></th>\n",
       "      <th>names</th>\n",
       "      <th>age</th>\n",
       "    </tr>\n",
       "  </thead>\n",
       "  <tbody>\n",
       "    <tr>\n",
       "      <th>0</th>\n",
       "      <td>vidya</td>\n",
       "      <td>20</td>\n",
       "    </tr>\n",
       "    <tr>\n",
       "      <th>1</th>\n",
       "      <td>lalith</td>\n",
       "      <td>25</td>\n",
       "    </tr>\n",
       "    <tr>\n",
       "      <th>2</th>\n",
       "      <td>jaya</td>\n",
       "      <td>21</td>\n",
       "    </tr>\n",
       "  </tbody>\n",
       "</table>\n",
       "</div>"
      ],
      "text/plain": [
       "    names  age\n",
       "0   vidya   20\n",
       "1  lalith   25\n",
       "2    jaya   21"
      ]
     },
     "execution_count": 42,
     "metadata": {},
     "output_type": "execute_result"
    }
   ],
   "source": [
    "df1"
   ]
  },
  {
   "cell_type": "markdown",
   "id": "43a52d37-9d45-4e64-b4ac-3562605600e8",
   "metadata": {},
   "source": [
    "$Step-9$\n",
    "\n",
    "**Drop multiple columns**"
   ]
  },
  {
   "cell_type": "code",
   "execution_count": 43,
   "id": "54fd1869-7b81-4566-8b2e-3a0bfbf92906",
   "metadata": {},
   "outputs": [
    {
     "data": {
      "text/html": [
       "<div>\n",
       "<style scoped>\n",
       "    .dataframe tbody tr th:only-of-type {\n",
       "        vertical-align: middle;\n",
       "    }\n",
       "\n",
       "    .dataframe tbody tr th {\n",
       "        vertical-align: top;\n",
       "    }\n",
       "\n",
       "    .dataframe thead th {\n",
       "        text-align: right;\n",
       "    }\n",
       "</style>\n",
       "<table border=\"1\" class=\"dataframe\">\n",
       "  <thead>\n",
       "    <tr style=\"text-align: right;\">\n",
       "      <th></th>\n",
       "      <th>names</th>\n",
       "      <th>age</th>\n",
       "      <th>city</th>\n",
       "      <th>job</th>\n",
       "    </tr>\n",
       "  </thead>\n",
       "  <tbody>\n",
       "    <tr>\n",
       "      <th>0</th>\n",
       "      <td>vidya</td>\n",
       "      <td>20</td>\n",
       "      <td>hyd</td>\n",
       "      <td>DS</td>\n",
       "    </tr>\n",
       "    <tr>\n",
       "      <th>1</th>\n",
       "      <td>lalith</td>\n",
       "      <td>25</td>\n",
       "      <td>chennai</td>\n",
       "      <td>DE</td>\n",
       "    </tr>\n",
       "    <tr>\n",
       "      <th>2</th>\n",
       "      <td>jaya</td>\n",
       "      <td>21</td>\n",
       "      <td>blr</td>\n",
       "      <td>CS</td>\n",
       "    </tr>\n",
       "  </tbody>\n",
       "</table>\n",
       "</div>"
      ],
      "text/plain": [
       "    names  age     city job\n",
       "0   vidya   20      hyd  DS\n",
       "1  lalith   25  chennai  DE\n",
       "2    jaya   21      blr  CS"
      ]
     },
     "execution_count": 43,
     "metadata": {},
     "output_type": "execute_result"
    }
   ],
   "source": [
    "names = ['vidya','lalith','jaya']\n",
    "age = [20,25,21]\n",
    "city = ['hyd','chennai','blr']\n",
    "\n",
    "data = zip(names, age,city)\n",
    "cols = ['names','age','city']\n",
    "df = pd.DataFrame(data, columns=cols)\n",
    "\n",
    "job = ['DS','DE','CS']\n",
    "df['job'] = job\n",
    "df"
   ]
  },
  {
   "cell_type": "code",
   "execution_count": 44,
   "id": "fef42af5-d492-4803-bfc6-9d2b28fe6ecd",
   "metadata": {},
   "outputs": [],
   "source": [
    "df.drop(['city','job'], axis = 1, inplace = True)"
   ]
  },
  {
   "cell_type": "code",
   "execution_count": 45,
   "id": "eca9bb09-12c9-42e6-b9ba-53ca57da814b",
   "metadata": {},
   "outputs": [
    {
     "data": {
      "text/html": [
       "<div>\n",
       "<style scoped>\n",
       "    .dataframe tbody tr th:only-of-type {\n",
       "        vertical-align: middle;\n",
       "    }\n",
       "\n",
       "    .dataframe tbody tr th {\n",
       "        vertical-align: top;\n",
       "    }\n",
       "\n",
       "    .dataframe thead th {\n",
       "        text-align: right;\n",
       "    }\n",
       "</style>\n",
       "<table border=\"1\" class=\"dataframe\">\n",
       "  <thead>\n",
       "    <tr style=\"text-align: right;\">\n",
       "      <th></th>\n",
       "      <th>names</th>\n",
       "      <th>age</th>\n",
       "    </tr>\n",
       "  </thead>\n",
       "  <tbody>\n",
       "    <tr>\n",
       "      <th>0</th>\n",
       "      <td>vidya</td>\n",
       "      <td>20</td>\n",
       "    </tr>\n",
       "    <tr>\n",
       "      <th>1</th>\n",
       "      <td>lalith</td>\n",
       "      <td>25</td>\n",
       "    </tr>\n",
       "    <tr>\n",
       "      <th>2</th>\n",
       "      <td>jaya</td>\n",
       "      <td>21</td>\n",
       "    </tr>\n",
       "  </tbody>\n",
       "</table>\n",
       "</div>"
      ],
      "text/plain": [
       "    names  age\n",
       "0   vidya   20\n",
       "1  lalith   25\n",
       "2    jaya   21"
      ]
     },
     "execution_count": 45,
     "metadata": {},
     "output_type": "execute_result"
    }
   ],
   "source": [
    "df"
   ]
  },
  {
   "cell_type": "markdown",
   "id": "bcfd7239-33b2-43f2-a3d0-03b31a994c19",
   "metadata": {},
   "source": [
    "$Step-10$\n",
    "\n",
    "**Drop the rows**"
   ]
  },
  {
   "cell_type": "code",
   "execution_count": 46,
   "id": "9f6f1d05-83eb-4606-bcd7-78c15fb488a0",
   "metadata": {},
   "outputs": [
    {
     "data": {
      "text/html": [
       "<div>\n",
       "<style scoped>\n",
       "    .dataframe tbody tr th:only-of-type {\n",
       "        vertical-align: middle;\n",
       "    }\n",
       "\n",
       "    .dataframe tbody tr th {\n",
       "        vertical-align: top;\n",
       "    }\n",
       "\n",
       "    .dataframe thead th {\n",
       "        text-align: right;\n",
       "    }\n",
       "</style>\n",
       "<table border=\"1\" class=\"dataframe\">\n",
       "  <thead>\n",
       "    <tr style=\"text-align: right;\">\n",
       "      <th></th>\n",
       "      <th>names</th>\n",
       "      <th>age</th>\n",
       "      <th>city</th>\n",
       "      <th>job</th>\n",
       "    </tr>\n",
       "  </thead>\n",
       "  <tbody>\n",
       "    <tr>\n",
       "      <th>0</th>\n",
       "      <td>vidya</td>\n",
       "      <td>20</td>\n",
       "      <td>hyd</td>\n",
       "      <td>DS</td>\n",
       "    </tr>\n",
       "    <tr>\n",
       "      <th>1</th>\n",
       "      <td>lalith</td>\n",
       "      <td>25</td>\n",
       "      <td>chennai</td>\n",
       "      <td>DE</td>\n",
       "    </tr>\n",
       "    <tr>\n",
       "      <th>2</th>\n",
       "      <td>jaya</td>\n",
       "      <td>21</td>\n",
       "      <td>blr</td>\n",
       "      <td>CS</td>\n",
       "    </tr>\n",
       "  </tbody>\n",
       "</table>\n",
       "</div>"
      ],
      "text/plain": [
       "    names  age     city job\n",
       "0   vidya   20      hyd  DS\n",
       "1  lalith   25  chennai  DE\n",
       "2    jaya   21      blr  CS"
      ]
     },
     "execution_count": 46,
     "metadata": {},
     "output_type": "execute_result"
    }
   ],
   "source": [
    "names = ['vidya','lalith','jaya']\n",
    "age = [20,25,21]\n",
    "city = ['hyd','chennai','blr']\n",
    "\n",
    "data = zip(names, age,city)\n",
    "cols = ['names','age','city']\n",
    "df = pd.DataFrame(data, columns=cols)\n",
    "\n",
    "job = ['DS','DE','CS']\n",
    "df['job'] = job\n",
    "df"
   ]
  },
  {
   "cell_type": "code",
   "execution_count": 47,
   "id": "0d4bd7a0-e21d-47e5-b157-67b4ef91fac4",
   "metadata": {},
   "outputs": [],
   "source": [
    "df.drop(0,axis = 0, inplace = True)"
   ]
  },
  {
   "cell_type": "code",
   "execution_count": 48,
   "id": "2c635580-078c-457f-aa33-a66824ea90bb",
   "metadata": {},
   "outputs": [
    {
     "data": {
      "text/html": [
       "<div>\n",
       "<style scoped>\n",
       "    .dataframe tbody tr th:only-of-type {\n",
       "        vertical-align: middle;\n",
       "    }\n",
       "\n",
       "    .dataframe tbody tr th {\n",
       "        vertical-align: top;\n",
       "    }\n",
       "\n",
       "    .dataframe thead th {\n",
       "        text-align: right;\n",
       "    }\n",
       "</style>\n",
       "<table border=\"1\" class=\"dataframe\">\n",
       "  <thead>\n",
       "    <tr style=\"text-align: right;\">\n",
       "      <th></th>\n",
       "      <th>names</th>\n",
       "      <th>age</th>\n",
       "      <th>city</th>\n",
       "      <th>job</th>\n",
       "    </tr>\n",
       "  </thead>\n",
       "  <tbody>\n",
       "    <tr>\n",
       "      <th>1</th>\n",
       "      <td>lalith</td>\n",
       "      <td>25</td>\n",
       "      <td>chennai</td>\n",
       "      <td>DE</td>\n",
       "    </tr>\n",
       "    <tr>\n",
       "      <th>2</th>\n",
       "      <td>jaya</td>\n",
       "      <td>21</td>\n",
       "      <td>blr</td>\n",
       "      <td>CS</td>\n",
       "    </tr>\n",
       "  </tbody>\n",
       "</table>\n",
       "</div>"
      ],
      "text/plain": [
       "    names  age     city job\n",
       "1  lalith   25  chennai  DE\n",
       "2    jaya   21      blr  CS"
      ]
     },
     "execution_count": 48,
     "metadata": {},
     "output_type": "execute_result"
    }
   ],
   "source": [
    "df"
   ]
  },
  {
   "cell_type": "markdown",
   "id": "dedded35-5e4f-4dfc-94ad-6997ccc86942",
   "metadata": {},
   "source": [
    "$Step-11$\n",
    "\n",
    "**How to save the dataframe**\n",
    "\n",
    "- Generally  dataframes are 2 types\n",
    "   - csv (comma seperated val)\n",
    "   - excel"
   ]
  },
  {
   "cell_type": "code",
   "execution_count": 49,
   "id": "75f1f422-883d-44c7-a57d-6528165aeaa4",
   "metadata": {},
   "outputs": [
    {
     "data": {
      "text/html": [
       "<div>\n",
       "<style scoped>\n",
       "    .dataframe tbody tr th:only-of-type {\n",
       "        vertical-align: middle;\n",
       "    }\n",
       "\n",
       "    .dataframe tbody tr th {\n",
       "        vertical-align: top;\n",
       "    }\n",
       "\n",
       "    .dataframe thead th {\n",
       "        text-align: right;\n",
       "    }\n",
       "</style>\n",
       "<table border=\"1\" class=\"dataframe\">\n",
       "  <thead>\n",
       "    <tr style=\"text-align: right;\">\n",
       "      <th></th>\n",
       "      <th>names</th>\n",
       "      <th>age</th>\n",
       "      <th>city</th>\n",
       "      <th>job</th>\n",
       "    </tr>\n",
       "  </thead>\n",
       "  <tbody>\n",
       "    <tr>\n",
       "      <th>0</th>\n",
       "      <td>vidya</td>\n",
       "      <td>20</td>\n",
       "      <td>hyd</td>\n",
       "      <td>DS</td>\n",
       "    </tr>\n",
       "    <tr>\n",
       "      <th>1</th>\n",
       "      <td>lalith</td>\n",
       "      <td>25</td>\n",
       "      <td>chennai</td>\n",
       "      <td>DE</td>\n",
       "    </tr>\n",
       "    <tr>\n",
       "      <th>2</th>\n",
       "      <td>jaya</td>\n",
       "      <td>21</td>\n",
       "      <td>blr</td>\n",
       "      <td>CS</td>\n",
       "    </tr>\n",
       "  </tbody>\n",
       "</table>\n",
       "</div>"
      ],
      "text/plain": [
       "    names  age     city job\n",
       "0   vidya   20      hyd  DS\n",
       "1  lalith   25  chennai  DE\n",
       "2    jaya   21      blr  CS"
      ]
     },
     "execution_count": 49,
     "metadata": {},
     "output_type": "execute_result"
    }
   ],
   "source": [
    "names = ['vidya','lalith','jaya']\n",
    "age = [20,25,21]\n",
    "city = ['hyd','chennai','blr']\n",
    "\n",
    "data = zip(names, age,city)\n",
    "cols = ['names','age','city']\n",
    "df = pd.DataFrame(data, columns=cols)\n",
    "\n",
    "job = ['DS','DE','CS']\n",
    "df['job'] = job\n",
    "df"
   ]
  },
  {
   "cell_type": "code",
   "execution_count": 50,
   "id": "c5246189-2887-4730-88c7-a869df4b01b1",
   "metadata": {},
   "outputs": [],
   "source": [
    "# filename = edaData\n",
    "# extension =.csv\n",
    "\n",
    "df.to_csv('edaData.csv')"
   ]
  },
  {
   "cell_type": "code",
   "execution_count": 56,
   "id": "580358d5-8ea6-436b-aa3e-74c77780d4ca",
   "metadata": {},
   "outputs": [],
   "source": [
    "df.to_csv('edaData2.csv', index = False)"
   ]
  },
  {
   "cell_type": "code",
   "execution_count": 54,
   "id": "384701f8-e795-40fa-a497-c57b51f8a30d",
   "metadata": {},
   "outputs": [],
   "source": [
    "# filename = edaData\n",
    "# extension =.xlsx\n",
    "\n",
    "df.to_excel('edaDataexcel.xlsx')"
   ]
  },
  {
   "cell_type": "code",
   "execution_count": 55,
   "id": "b6e2776e-dae2-4061-8972-7a9b11a411d3",
   "metadata": {},
   "outputs": [],
   "source": [
    "df.to_excel('edaDataexcel1.xlsx', index = False)"
   ]
  },
  {
   "cell_type": "code",
   "execution_count": null,
   "id": "78ea46a9-e409-42c1-9af5-a55cba71242e",
   "metadata": {},
   "outputs": [],
   "source": []
  }
 ],
 "metadata": {
  "kernelspec": {
   "display_name": "Python 3 (ipykernel)",
   "language": "python",
   "name": "python3"
  },
  "language_info": {
   "codemirror_mode": {
    "name": "ipython",
    "version": 3
   },
   "file_extension": ".py",
   "mimetype": "text/x-python",
   "name": "python",
   "nbconvert_exporter": "python",
   "pygments_lexer": "ipython3",
   "version": "3.11.7"
  }
 },
 "nbformat": 4,
 "nbformat_minor": 5
}
