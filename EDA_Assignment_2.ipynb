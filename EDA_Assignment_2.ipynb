{
 "cells": [
  {
   "cell_type": "code",
   "execution_count": 1,
   "id": "d380312c-f069-4ec9-8bfb-15d68f550906",
   "metadata": {},
   "outputs": [],
   "source": [
    "import pandas as pd\n",
    "import numpy as np\n",
    "import matplotlib.pyplot as plt\n",
    "import seaborn as sns"
   ]
  },
  {
   "cell_type": "code",
   "execution_count": 3,
   "id": "2f6e7571-e007-47e0-b253-5411b45cfccf",
   "metadata": {},
   "outputs": [
    {
     "data": {
      "text/html": [
       "<div>\n",
       "<style scoped>\n",
       "    .dataframe tbody tr th:only-of-type {\n",
       "        vertical-align: middle;\n",
       "    }\n",
       "\n",
       "    .dataframe tbody tr th {\n",
       "        vertical-align: top;\n",
       "    }\n",
       "\n",
       "    .dataframe thead th {\n",
       "        text-align: right;\n",
       "    }\n",
       "</style>\n",
       "<table border=\"1\" class=\"dataframe\">\n",
       "  <thead>\n",
       "    <tr style=\"text-align: right;\">\n",
       "      <th></th>\n",
       "      <th>case_id</th>\n",
       "      <th>continent</th>\n",
       "      <th>education_of_employee</th>\n",
       "      <th>has_job_experience</th>\n",
       "      <th>requires_job_training</th>\n",
       "      <th>no_of_employees</th>\n",
       "      <th>yr_of_estab</th>\n",
       "      <th>region_of_employment</th>\n",
       "      <th>prevailing_wage</th>\n",
       "      <th>unit_of_wage</th>\n",
       "      <th>full_time_position</th>\n",
       "      <th>case_status</th>\n",
       "    </tr>\n",
       "  </thead>\n",
       "  <tbody>\n",
       "    <tr>\n",
       "      <th>0</th>\n",
       "      <td>EZYV01</td>\n",
       "      <td>Asia</td>\n",
       "      <td>High School</td>\n",
       "      <td>N</td>\n",
       "      <td>N</td>\n",
       "      <td>14513</td>\n",
       "      <td>2007</td>\n",
       "      <td>West</td>\n",
       "      <td>592.2029</td>\n",
       "      <td>Hour</td>\n",
       "      <td>Y</td>\n",
       "      <td>Denied</td>\n",
       "    </tr>\n",
       "    <tr>\n",
       "      <th>1</th>\n",
       "      <td>EZYV02</td>\n",
       "      <td>Asia</td>\n",
       "      <td>Master's</td>\n",
       "      <td>Y</td>\n",
       "      <td>N</td>\n",
       "      <td>2412</td>\n",
       "      <td>2002</td>\n",
       "      <td>Northeast</td>\n",
       "      <td>83425.6500</td>\n",
       "      <td>Year</td>\n",
       "      <td>Y</td>\n",
       "      <td>Certified</td>\n",
       "    </tr>\n",
       "  </tbody>\n",
       "</table>\n",
       "</div>"
      ],
      "text/plain": [
       "  case_id continent education_of_employee has_job_experience  \\\n",
       "0  EZYV01      Asia           High School                  N   \n",
       "1  EZYV02      Asia              Master's                  Y   \n",
       "\n",
       "  requires_job_training  no_of_employees  yr_of_estab region_of_employment  \\\n",
       "0                     N            14513         2007                 West   \n",
       "1                     N             2412         2002            Northeast   \n",
       "\n",
       "   prevailing_wage unit_of_wage full_time_position case_status  \n",
       "0         592.2029         Hour                  Y      Denied  \n",
       "1       83425.6500         Year                  Y   Certified  "
      ]
     },
     "execution_count": 3,
     "metadata": {},
     "output_type": "execute_result"
    }
   ],
   "source": [
    "visa_df = pd.read_csv(r\"C:\\Users\\Owner\\OneDrive\\Documents\\NareshIT\\DataScience\\DataFiles\\Visadataset - Visadataset.csv\")\n",
    "visa_df.head(2)"
   ]
  },
  {
   "cell_type": "code",
   "execution_count": 4,
   "id": "05ed77bf-6056-412f-9971-6944507c3578",
   "metadata": {},
   "outputs": [
    {
     "data": {
      "text/plain": [
       "0        High School\n",
       "1           Master's\n",
       "2         Bachelor's\n",
       "3         Bachelor's\n",
       "4           Master's\n",
       "            ...     \n",
       "25475     Bachelor's\n",
       "25476    High School\n",
       "25477       Master's\n",
       "25478       Master's\n",
       "25479     Bachelor's\n",
       "Name: education_of_employee, Length: 25480, dtype: object"
      ]
     },
     "execution_count": 4,
     "metadata": {},
     "output_type": "execute_result"
    }
   ],
   "source": [
    "visa_df['education_of_employee']"
   ]
  },
  {
   "cell_type": "code",
   "execution_count": 5,
   "id": "7b72414c-5670-48b5-9d54-8bd71600ef15",
   "metadata": {},
   "outputs": [
    {
     "data": {
      "text/plain": [
       "0        High School\n",
       "1           Master's\n",
       "2         Bachelor's\n",
       "3         Bachelor's\n",
       "4           Master's\n",
       "            ...     \n",
       "25475     Bachelor's\n",
       "25476    High School\n",
       "25477       Master's\n",
       "25478       Master's\n",
       "25479     Bachelor's\n",
       "Name: education_of_employee, Length: 25480, dtype: object"
      ]
     },
     "execution_count": 5,
     "metadata": {},
     "output_type": "execute_result"
    }
   ],
   "source": [
    "visa_df.education_of_employee"
   ]
  },
  {
   "cell_type": "code",
   "execution_count": 7,
   "id": "f6e1d0a9-719d-466b-b696-cdffb549889e",
   "metadata": {},
   "outputs": [
    {
     "data": {
      "text/plain": [
       "array(['High School', \"Master's\", \"Bachelor's\", 'Doctorate'], dtype=object)"
      ]
     },
     "execution_count": 7,
     "metadata": {},
     "output_type": "execute_result"
    }
   ],
   "source": [
    "unqEdu = visa_df.education_of_employee.unique()\n",
    "unqEdu"
   ]
  },
  {
   "cell_type": "code",
   "execution_count": 11,
   "id": "8f0c45a4-02d1-4889-b6c3-a1d387daee0a",
   "metadata": {},
   "outputs": [
    {
     "data": {
      "text/plain": [
       "0        False\n",
       "1        False\n",
       "2        False\n",
       "3        False\n",
       "4        False\n",
       "         ...  \n",
       "25475    False\n",
       "25476    False\n",
       "25477    False\n",
       "25478    False\n",
       "25479    False\n",
       "Name: education_of_employee, Length: 25480, dtype: bool"
      ]
     },
     "execution_count": 11,
     "metadata": {},
     "output_type": "execute_result"
    }
   ],
   "source": [
    "visa_df.education_of_employee == \"Doctorate\""
   ]
  },
  {
   "cell_type": "code",
   "execution_count": 9,
   "id": "f0aa135e-1cf0-41fa-aea4-410c2be80bd5",
   "metadata": {},
   "outputs": [
    {
     "data": {
      "text/html": [
       "<div>\n",
       "<style scoped>\n",
       "    .dataframe tbody tr th:only-of-type {\n",
       "        vertical-align: middle;\n",
       "    }\n",
       "\n",
       "    .dataframe tbody tr th {\n",
       "        vertical-align: top;\n",
       "    }\n",
       "\n",
       "    .dataframe thead th {\n",
       "        text-align: right;\n",
       "    }\n",
       "</style>\n",
       "<table border=\"1\" class=\"dataframe\">\n",
       "  <thead>\n",
       "    <tr style=\"text-align: right;\">\n",
       "      <th></th>\n",
       "      <th>case_id</th>\n",
       "      <th>continent</th>\n",
       "      <th>education_of_employee</th>\n",
       "      <th>has_job_experience</th>\n",
       "      <th>requires_job_training</th>\n",
       "      <th>no_of_employees</th>\n",
       "      <th>yr_of_estab</th>\n",
       "      <th>region_of_employment</th>\n",
       "      <th>prevailing_wage</th>\n",
       "      <th>unit_of_wage</th>\n",
       "      <th>full_time_position</th>\n",
       "      <th>case_status</th>\n",
       "    </tr>\n",
       "  </thead>\n",
       "  <tbody>\n",
       "    <tr>\n",
       "      <th>9</th>\n",
       "      <td>EZYV10</td>\n",
       "      <td>Europe</td>\n",
       "      <td>Doctorate</td>\n",
       "      <td>Y</td>\n",
       "      <td>N</td>\n",
       "      <td>2251</td>\n",
       "      <td>1995</td>\n",
       "      <td>South</td>\n",
       "      <td>67514.76</td>\n",
       "      <td>Year</td>\n",
       "      <td>Y</td>\n",
       "      <td>Certified</td>\n",
       "    </tr>\n",
       "    <tr>\n",
       "      <th>19</th>\n",
       "      <td>EZYV20</td>\n",
       "      <td>Asia</td>\n",
       "      <td>Doctorate</td>\n",
       "      <td>N</td>\n",
       "      <td>N</td>\n",
       "      <td>843</td>\n",
       "      <td>1972</td>\n",
       "      <td>Midwest</td>\n",
       "      <td>79948.12</td>\n",
       "      <td>Year</td>\n",
       "      <td>Y</td>\n",
       "      <td>Certified</td>\n",
       "    </tr>\n",
       "    <tr>\n",
       "      <th>24</th>\n",
       "      <td>EZYV25</td>\n",
       "      <td>Europe</td>\n",
       "      <td>Doctorate</td>\n",
       "      <td>Y</td>\n",
       "      <td>N</td>\n",
       "      <td>241</td>\n",
       "      <td>1981</td>\n",
       "      <td>Midwest</td>\n",
       "      <td>71286.04</td>\n",
       "      <td>Year</td>\n",
       "      <td>Y</td>\n",
       "      <td>Certified</td>\n",
       "    </tr>\n",
       "    <tr>\n",
       "      <th>31</th>\n",
       "      <td>EZYV32</td>\n",
       "      <td>Asia</td>\n",
       "      <td>Doctorate</td>\n",
       "      <td>Y</td>\n",
       "      <td>N</td>\n",
       "      <td>995</td>\n",
       "      <td>1880</td>\n",
       "      <td>South</td>\n",
       "      <td>135866.13</td>\n",
       "      <td>Year</td>\n",
       "      <td>N</td>\n",
       "      <td>Certified</td>\n",
       "    </tr>\n",
       "    <tr>\n",
       "      <th>42</th>\n",
       "      <td>EZYV43</td>\n",
       "      <td>Europe</td>\n",
       "      <td>Doctorate</td>\n",
       "      <td>Y</td>\n",
       "      <td>N</td>\n",
       "      <td>19770</td>\n",
       "      <td>2005</td>\n",
       "      <td>West</td>\n",
       "      <td>43630.58</td>\n",
       "      <td>Year</td>\n",
       "      <td>Y</td>\n",
       "      <td>Certified</td>\n",
       "    </tr>\n",
       "    <tr>\n",
       "      <th>...</th>\n",
       "      <td>...</td>\n",
       "      <td>...</td>\n",
       "      <td>...</td>\n",
       "      <td>...</td>\n",
       "      <td>...</td>\n",
       "      <td>...</td>\n",
       "      <td>...</td>\n",
       "      <td>...</td>\n",
       "      <td>...</td>\n",
       "      <td>...</td>\n",
       "      <td>...</td>\n",
       "      <td>...</td>\n",
       "    </tr>\n",
       "    <tr>\n",
       "      <th>25407</th>\n",
       "      <td>EZYV25408</td>\n",
       "      <td>Asia</td>\n",
       "      <td>Doctorate</td>\n",
       "      <td>Y</td>\n",
       "      <td>N</td>\n",
       "      <td>5892</td>\n",
       "      <td>2001</td>\n",
       "      <td>South</td>\n",
       "      <td>62327.54</td>\n",
       "      <td>Year</td>\n",
       "      <td>N</td>\n",
       "      <td>Certified</td>\n",
       "    </tr>\n",
       "    <tr>\n",
       "      <th>25426</th>\n",
       "      <td>EZYV25427</td>\n",
       "      <td>Europe</td>\n",
       "      <td>Doctorate</td>\n",
       "      <td>N</td>\n",
       "      <td>N</td>\n",
       "      <td>171</td>\n",
       "      <td>1977</td>\n",
       "      <td>South</td>\n",
       "      <td>7058.51</td>\n",
       "      <td>Year</td>\n",
       "      <td>Y</td>\n",
       "      <td>Certified</td>\n",
       "    </tr>\n",
       "    <tr>\n",
       "      <th>25428</th>\n",
       "      <td>EZYV25429</td>\n",
       "      <td>Asia</td>\n",
       "      <td>Doctorate</td>\n",
       "      <td>Y</td>\n",
       "      <td>N</td>\n",
       "      <td>23942</td>\n",
       "      <td>1992</td>\n",
       "      <td>Island</td>\n",
       "      <td>70380.93</td>\n",
       "      <td>Year</td>\n",
       "      <td>Y</td>\n",
       "      <td>Denied</td>\n",
       "    </tr>\n",
       "    <tr>\n",
       "      <th>25448</th>\n",
       "      <td>EZYV25449</td>\n",
       "      <td>Europe</td>\n",
       "      <td>Doctorate</td>\n",
       "      <td>Y</td>\n",
       "      <td>N</td>\n",
       "      <td>4119</td>\n",
       "      <td>1971</td>\n",
       "      <td>West</td>\n",
       "      <td>86894.10</td>\n",
       "      <td>Year</td>\n",
       "      <td>Y</td>\n",
       "      <td>Certified</td>\n",
       "    </tr>\n",
       "    <tr>\n",
       "      <th>25474</th>\n",
       "      <td>EZYV25475</td>\n",
       "      <td>Africa</td>\n",
       "      <td>Doctorate</td>\n",
       "      <td>N</td>\n",
       "      <td>N</td>\n",
       "      <td>2594</td>\n",
       "      <td>1979</td>\n",
       "      <td>Northeast</td>\n",
       "      <td>51104.78</td>\n",
       "      <td>Year</td>\n",
       "      <td>Y</td>\n",
       "      <td>Certified</td>\n",
       "    </tr>\n",
       "  </tbody>\n",
       "</table>\n",
       "<p>2192 rows × 12 columns</p>\n",
       "</div>"
      ],
      "text/plain": [
       "         case_id continent education_of_employee has_job_experience  \\\n",
       "9         EZYV10    Europe             Doctorate                  Y   \n",
       "19        EZYV20      Asia             Doctorate                  N   \n",
       "24        EZYV25    Europe             Doctorate                  Y   \n",
       "31        EZYV32      Asia             Doctorate                  Y   \n",
       "42        EZYV43    Europe             Doctorate                  Y   \n",
       "...          ...       ...                   ...                ...   \n",
       "25407  EZYV25408      Asia             Doctorate                  Y   \n",
       "25426  EZYV25427    Europe             Doctorate                  N   \n",
       "25428  EZYV25429      Asia             Doctorate                  Y   \n",
       "25448  EZYV25449    Europe             Doctorate                  Y   \n",
       "25474  EZYV25475    Africa             Doctorate                  N   \n",
       "\n",
       "      requires_job_training  no_of_employees  yr_of_estab  \\\n",
       "9                         N             2251         1995   \n",
       "19                        N              843         1972   \n",
       "24                        N              241         1981   \n",
       "31                        N              995         1880   \n",
       "42                        N            19770         2005   \n",
       "...                     ...              ...          ...   \n",
       "25407                     N             5892         2001   \n",
       "25426                     N              171         1977   \n",
       "25428                     N            23942         1992   \n",
       "25448                     N             4119         1971   \n",
       "25474                     N             2594         1979   \n",
       "\n",
       "      region_of_employment  prevailing_wage unit_of_wage full_time_position  \\\n",
       "9                    South         67514.76         Year                  Y   \n",
       "19                 Midwest         79948.12         Year                  Y   \n",
       "24                 Midwest         71286.04         Year                  Y   \n",
       "31                   South        135866.13         Year                  N   \n",
       "42                    West         43630.58         Year                  Y   \n",
       "...                    ...              ...          ...                ...   \n",
       "25407                South         62327.54         Year                  N   \n",
       "25426                South          7058.51         Year                  Y   \n",
       "25428               Island         70380.93         Year                  Y   \n",
       "25448                 West         86894.10         Year                  Y   \n",
       "25474            Northeast         51104.78         Year                  Y   \n",
       "\n",
       "      case_status  \n",
       "9       Certified  \n",
       "19      Certified  \n",
       "24      Certified  \n",
       "31      Certified  \n",
       "42      Certified  \n",
       "...           ...  \n",
       "25407   Certified  \n",
       "25426   Certified  \n",
       "25428      Denied  \n",
       "25448   Certified  \n",
       "25474   Certified  \n",
       "\n",
       "[2192 rows x 12 columns]"
      ]
     },
     "execution_count": 9,
     "metadata": {},
     "output_type": "execute_result"
    }
   ],
   "source": [
    "visa_df[visa_df.education_of_employee == \"Doctorate\"]"
   ]
  },
  {
   "cell_type": "code",
   "execution_count": 13,
   "id": "b600c036-a9b5-42a4-b707-659e95605778",
   "metadata": {},
   "outputs": [
    {
     "data": {
      "text/plain": [
       "(array(['High School', \"Master's\", \"Bachelor's\", 'Doctorate'], dtype=object),\n",
       " [3420, 9634, 10234, 2192])"
      ]
     },
     "execution_count": 13,
     "metadata": {},
     "output_type": "execute_result"
    }
   ],
   "source": [
    "cnt = []\n",
    "for i in unqEdu:\n",
    "    ttl = len(visa_df[visa_df.education_of_employee == i])\n",
    "    cnt.append(ttl)\n",
    "unqEdu,cnt   "
   ]
  },
  {
   "cell_type": "code",
   "execution_count": 29,
   "id": "ec4b42c0-d6d2-4e01-b222-8913d6db15b9",
   "metadata": {},
   "outputs": [
    {
     "data": {
      "text/html": [
       "<div>\n",
       "<style scoped>\n",
       "    .dataframe tbody tr th:only-of-type {\n",
       "        vertical-align: middle;\n",
       "    }\n",
       "\n",
       "    .dataframe tbody tr th {\n",
       "        vertical-align: top;\n",
       "    }\n",
       "\n",
       "    .dataframe thead th {\n",
       "        text-align: right;\n",
       "    }\n",
       "</style>\n",
       "<table border=\"1\" class=\"dataframe\">\n",
       "  <thead>\n",
       "    <tr style=\"text-align: right;\">\n",
       "      <th></th>\n",
       "      <th>count</th>\n",
       "    </tr>\n",
       "    <tr>\n",
       "      <th>education_of_employee</th>\n",
       "      <th></th>\n",
       "    </tr>\n",
       "  </thead>\n",
       "  <tbody>\n",
       "    <tr>\n",
       "      <th>Bachelor's</th>\n",
       "      <td>10234</td>\n",
       "    </tr>\n",
       "    <tr>\n",
       "      <th>Master's</th>\n",
       "      <td>9634</td>\n",
       "    </tr>\n",
       "    <tr>\n",
       "      <th>High School</th>\n",
       "      <td>3420</td>\n",
       "    </tr>\n",
       "    <tr>\n",
       "      <th>Doctorate</th>\n",
       "      <td>2192</td>\n",
       "    </tr>\n",
       "  </tbody>\n",
       "</table>\n",
       "</div>"
      ],
      "text/plain": [
       "                       count\n",
       "education_of_employee       \n",
       "Bachelor's             10234\n",
       "Master's                9634\n",
       "High School             3420\n",
       "Doctorate               2192"
      ]
     },
     "execution_count": 29,
     "metadata": {},
     "output_type": "execute_result"
    }
   ],
   "source": [
    "edu = visa_df.education_of_employee.value_counts()\n",
    "pd.DataFrame(edu)"
   ]
  },
  {
   "cell_type": "code",
   "execution_count": 14,
   "id": "fc01c9d4-c49a-493a-a092-451fdf2529cb",
   "metadata": {},
   "outputs": [
    {
     "data": {
      "text/html": [
       "<div>\n",
       "<style scoped>\n",
       "    .dataframe tbody tr th:only-of-type {\n",
       "        vertical-align: middle;\n",
       "    }\n",
       "\n",
       "    .dataframe tbody tr th {\n",
       "        vertical-align: top;\n",
       "    }\n",
       "\n",
       "    .dataframe thead th {\n",
       "        text-align: right;\n",
       "    }\n",
       "</style>\n",
       "<table border=\"1\" class=\"dataframe\">\n",
       "  <thead>\n",
       "    <tr style=\"text-align: right;\">\n",
       "      <th></th>\n",
       "      <th>Education</th>\n",
       "      <th>Count</th>\n",
       "    </tr>\n",
       "  </thead>\n",
       "  <tbody>\n",
       "    <tr>\n",
       "      <th>0</th>\n",
       "      <td>High School</td>\n",
       "      <td>3420</td>\n",
       "    </tr>\n",
       "    <tr>\n",
       "      <th>1</th>\n",
       "      <td>Master's</td>\n",
       "      <td>9634</td>\n",
       "    </tr>\n",
       "    <tr>\n",
       "      <th>2</th>\n",
       "      <td>Bachelor's</td>\n",
       "      <td>10234</td>\n",
       "    </tr>\n",
       "    <tr>\n",
       "      <th>3</th>\n",
       "      <td>Doctorate</td>\n",
       "      <td>2192</td>\n",
       "    </tr>\n",
       "  </tbody>\n",
       "</table>\n",
       "</div>"
      ],
      "text/plain": [
       "     Education  Count\n",
       "0  High School   3420\n",
       "1     Master's   9634\n",
       "2   Bachelor's  10234\n",
       "3    Doctorate   2192"
      ]
     },
     "execution_count": 14,
     "metadata": {},
     "output_type": "execute_result"
    }
   ],
   "source": [
    "edu_df = pd.DataFrame(zip(unqEdu,cnt),columns=['Education', 'Count'])\n",
    "edu_df"
   ]
  },
  {
   "cell_type": "code",
   "execution_count": 49,
   "id": "4cf4975f-c517-4c6b-86a0-0a045515a2d8",
   "metadata": {},
   "outputs": [
    {
     "data": {
      "text/html": [
       "<div>\n",
       "<style scoped>\n",
       "    .dataframe tbody tr th:only-of-type {\n",
       "        vertical-align: middle;\n",
       "    }\n",
       "\n",
       "    .dataframe tbody tr th {\n",
       "        vertical-align: top;\n",
       "    }\n",
       "\n",
       "    .dataframe thead th {\n",
       "        text-align: right;\n",
       "    }\n",
       "</style>\n",
       "<table border=\"1\" class=\"dataframe\">\n",
       "  <thead>\n",
       "    <tr style=\"text-align: right;\">\n",
       "      <th></th>\n",
       "      <th>Education</th>\n",
       "      <th>Count</th>\n",
       "    </tr>\n",
       "  </thead>\n",
       "  <tbody>\n",
       "    <tr>\n",
       "      <th>0</th>\n",
       "      <td>Doctorate</td>\n",
       "      <td>2192</td>\n",
       "    </tr>\n",
       "    <tr>\n",
       "      <th>1</th>\n",
       "      <td>High School</td>\n",
       "      <td>3420</td>\n",
       "    </tr>\n",
       "    <tr>\n",
       "      <th>2</th>\n",
       "      <td>Master's</td>\n",
       "      <td>9634</td>\n",
       "    </tr>\n",
       "    <tr>\n",
       "      <th>3</th>\n",
       "      <td>Bachelor's</td>\n",
       "      <td>10234</td>\n",
       "    </tr>\n",
       "  </tbody>\n",
       "</table>\n",
       "</div>"
      ],
      "text/plain": [
       "     Education  Count\n",
       "0    Doctorate   2192\n",
       "1  High School   3420\n",
       "2     Master's   9634\n",
       "3   Bachelor's  10234"
      ]
     },
     "execution_count": 49,
     "metadata": {},
     "output_type": "execute_result"
    }
   ],
   "source": [
    "edu_emp_lst = list(zip(unqEdu,cnt))\n",
    "asc_lst = sorted(edu_emp_lst, key=lambda x:x[1])\n",
    "asc_lst\n",
    "asc_df = pd.DataFrame(asc_lst, columns=['Education','Count'])\n",
    "asc_df"
   ]
  },
  {
   "cell_type": "code",
   "execution_count": 50,
   "id": "3578a1f4-4fe2-4373-85d2-c97a9c7a2c2e",
   "metadata": {},
   "outputs": [
    {
     "data": {
      "text/html": [
       "<div>\n",
       "<style scoped>\n",
       "    .dataframe tbody tr th:only-of-type {\n",
       "        vertical-align: middle;\n",
       "    }\n",
       "\n",
       "    .dataframe tbody tr th {\n",
       "        vertical-align: top;\n",
       "    }\n",
       "\n",
       "    .dataframe thead th {\n",
       "        text-align: right;\n",
       "    }\n",
       "</style>\n",
       "<table border=\"1\" class=\"dataframe\">\n",
       "  <thead>\n",
       "    <tr style=\"text-align: right;\">\n",
       "      <th></th>\n",
       "      <th>Education</th>\n",
       "      <th>Count</th>\n",
       "    </tr>\n",
       "  </thead>\n",
       "  <tbody>\n",
       "    <tr>\n",
       "      <th>0</th>\n",
       "      <td>Bachelor's</td>\n",
       "      <td>10234</td>\n",
       "    </tr>\n",
       "    <tr>\n",
       "      <th>1</th>\n",
       "      <td>Master's</td>\n",
       "      <td>9634</td>\n",
       "    </tr>\n",
       "    <tr>\n",
       "      <th>2</th>\n",
       "      <td>High School</td>\n",
       "      <td>3420</td>\n",
       "    </tr>\n",
       "    <tr>\n",
       "      <th>3</th>\n",
       "      <td>Doctorate</td>\n",
       "      <td>2192</td>\n",
       "    </tr>\n",
       "  </tbody>\n",
       "</table>\n",
       "</div>"
      ],
      "text/plain": [
       "     Education  Count\n",
       "0   Bachelor's  10234\n",
       "1     Master's   9634\n",
       "2  High School   3420\n",
       "3    Doctorate   2192"
      ]
     },
     "execution_count": 50,
     "metadata": {},
     "output_type": "execute_result"
    }
   ],
   "source": [
    "edu_emp_lst = list(zip(unqEdu,cnt))\n",
    "dsc_lst = sorted(edu_emp_lst, key=lambda x:x[1], reverse=True)\n",
    "dsc_lst\n",
    "dsc_df = pd.DataFrame(dsc_lst, columns=['Education','Count'])\n",
    "dsc_df"
   ]
  },
  {
   "cell_type": "markdown",
   "id": "19096707-18ec-4916-8445-c6137efe284f",
   "metadata": {},
   "source": [
    "**Bar chart**\n",
    "\n",
    "- barplot is in matplotlib package"
   ]
  },
  {
   "cell_type": "code",
   "execution_count": 34,
   "id": "68689138-ec86-423a-93e2-0ed717740a9c",
   "metadata": {},
   "outputs": [
    {
     "data": {
      "image/png": "[encoded data removed]",
      "text/plain": [
       "<Figure size 640x480 with 1 Axes>"
      ]
     },
     "metadata": {},
     "output_type": "display_data"
    }
   ],
   "source": [
    "plt.bar('Education','Count',data=edu_df,color=['yellow','pink','cyan','purple'],linewidth = 0)\n",
    "plt.title(\"Bar plot of Education of Employees\")\n",
    "plt.xlabel(\"Education\")\n",
    "plt.ylabel(\"Count\")\n",
    "plt.show()"
   ]
  },
  {
   "cell_type": "markdown",
   "id": "b63a10cc-b437-4f4c-997a-3b0aa75ceea7",
   "metadata": {},
   "source": [
    "**In assending order**"
   ]
  },
  {
   "cell_type": "code",
   "execution_count": 51,
   "id": "53d2a3f5-28ac-4f1d-926e-e944205890fc",
   "metadata": {},
   "outputs": [
    {
     "data": {
      "image/png": "[encoded data removed]",
      "text/plain": [
       "<Figure size 640x480 with 1 Axes>"
      ]
     },
     "metadata": {},
     "output_type": "display_data"
    }
   ],
   "source": [
    "plt.bar('Education','Count',data=asc_df,color=['grey','tan','linen','plum'])\n",
    "plt.title(\"Bar plot ASC\")\n",
    "plt.xlabel(\"Education\")\n",
    "plt.ylabel(\"Count\")\n",
    "plt.show()"
   ]
  },
  {
   "cell_type": "markdown",
   "id": "cfb52963-0dec-4df3-85ed-1ff98d8a8963",
   "metadata": {},
   "source": [
    "**In Desending order**"
   ]
  },
  {
   "cell_type": "code",
   "execution_count": 52,
   "id": "d0aca5e8-250a-41dd-ba46-24df3df804f1",
   "metadata": {},
   "outputs": [
    {
     "data": {
      "image/png": "[encoded data removed]",
      "text/plain": [
       "<Figure size 640x480 with 1 Axes>"
      ]
     },
     "metadata": {},
     "output_type": "display_data"
    }
   ],
   "source": [
    "plt.bar('Education','Count',data=dsc_df,color=['grey','tan','linen','plum'])\n",
    "plt.title(\"Bar plot DSC\")\n",
    "plt.xlabel(\"Education\")\n",
    "plt.ylabel(\"Count\")\n",
    "plt.show()"
   ]
  },
  {
   "cell_type": "code",
   "execution_count": 24,
   "id": "f8a830e5-5804-4d9f-8c1a-4f97ead896d6",
   "metadata": {},
   "outputs": [
    {
     "data": {
      "text/plain": [
       "<BarContainer object of 4 artists>"
      ]
     },
     "execution_count": 24,
     "metadata": {},
     "output_type": "execute_result"
    },
    {
     "data": {
      "image/png": "[encoded data removed]",
      "text/plain": [
       "<Figure size 640x480 with 1 Axes>"
      ]
     },
     "metadata": {},
     "output_type": "display_data"
    }
   ],
   "source": [
    "plt.barh('Education','Count',data=edu_df)"
   ]
  },
  {
   "cell_type": "markdown",
   "id": "41a8ff07-8fb2-448d-88e7-8bfc7d3d0554",
   "metadata": {},
   "source": [
    "**Countplot**"
   ]
  },
  {
   "cell_type": "code",
   "execution_count": 57,
   "id": "004d037b-9aa8-4a7e-9daa-a03589feac1c",
   "metadata": {},
   "outputs": [
    {
     "data": {
      "image/png": "[encoded data removed]",
      "text/plain": [
       "<Figure size 640x480 with 1 Axes>"
      ]
     },
     "metadata": {},
     "output_type": "display_data"
    }
   ],
   "source": [
    "edf = visa_df.education_of_employee.value_counts()\n",
    "ord = edf.keys()\n",
    "sns.countplot(visa_df,x=\"education_of_employee\", order=ord)\n",
    "plt.title(\"Bar plot by seaborn\")\n",
    "plt.show()"
   ]
  },
  {
   "cell_type": "code",
   "execution_count": 58,
   "id": "d4b01cab-4f49-4fda-ba30-1f4e5da5763a",
   "metadata": {},
   "outputs": [
    {
     "data": {
      "text/plain": [
       "Text(0.5, 1.0, 'Bar plot by seaborn')"
      ]
     },
     "execution_count": 58,
     "metadata": {},
     "output_type": "execute_result"
    },
    {
     "data": {
      "image/png": "[encoded data removed]",
      "text/plain": [
       "<Figure size 640x480 with 2 Axes>"
      ]
     },
     "metadata": {},
     "output_type": "display_data"
    }
   ],
   "source": [
    "plt.subplot(1,2,1)\n",
    "plt.bar('Education','Count',data=edu_df,color=['yellow','pink','cyan','purple'],linewidth = 0)\n",
    "plt.title(\"Bar plot of Education of Employees\")\n",
    "plt.xlabel(\"Education\")\n",
    "plt.ylabel(\"Count\")\n",
    "\n",
    "plt.subplot(1,2,2)\n",
    "edf = visa_df.education_of_employee.value_counts()\n",
    "ord = edf.keys()\n",
    "sns.countplot(visa_df,x=\"education_of_employee\", order=ord)\n",
    "plt.title(\"Bar plot by seaborn\")"
   ]
  },
  {
   "cell_type": "code",
   "execution_count": 59,
   "id": "e627dac0-ad5a-42ac-846d-c9c75780e767",
   "metadata": {},
   "outputs": [
    {
     "data": {
      "text/plain": [
       "education_of_employee\n",
       "Bachelor's     0.401648\n",
       "Master's       0.378100\n",
       "High School    0.134223\n",
       "Doctorate      0.086028\n",
       "Name: proportion, dtype: float64"
      ]
     },
     "execution_count": 59,
     "metadata": {},
     "output_type": "execute_result"
    }
   ],
   "source": [
    "visa_df.education_of_employee.value_counts(normalize=True)"
   ]
  },
  {
   "cell_type": "markdown",
   "id": "fbd200be-d288-4d7d-8ae6-e1d6216f8bb3",
   "metadata": {},
   "source": [
    "**Pie Chart**"
   ]
  },
  {
   "cell_type": "code",
   "execution_count": 61,
   "id": "d4355fd9-0da9-41cd-8dfd-3a0a48674336",
   "metadata": {},
   "outputs": [],
   "source": [
    "edf = visa_df.education_of_employee.value_counts()\n",
    "val = edf.values\n",
    "key = edf.keys()"
   ]
  },
  {
   "cell_type": "code",
   "execution_count": 67,
   "id": "0c6ff838-ef06-49b9-b978-55f0a4cb7a6b",
   "metadata": {},
   "outputs": [
    {
     "data": {
      "image/png": "[encoded data removed]",
      "text/plain": [
       "<Figure size 640x480 with 1 Axes>"
      ]
     },
     "metadata": {},
     "output_type": "display_data"
    }
   ],
   "source": [
    "plt.pie(x = val,labels=key,autopct=\"%0.2f%%\")\n",
    "plt.show()"
   ]
  },
  {
   "cell_type": "code",
   "execution_count": null,
   "id": "6f7d2909-671f-448c-9f44-6ee30bc1cf75",
   "metadata": {},
   "outputs": [],
   "source": []
  }
 ],
 "metadata": {
  "kernelspec": {
   "display_name": "Python 3 (ipykernel)",
   "language": "python",
   "name": "python3"
  },
  "language_info": {
   "codemirror_mode": {
    "name": "ipython",
    "version": 3
   },
   "file_extension": ".py",
   "mimetype": "text/x-python",
   "name": "python",
   "nbconvert_exporter": "python",
   "pygments_lexer": "ipython3",
   "version": "3.11.7"
  }
 },
 "nbformat": 4,
 "nbformat_minor": 5
}
