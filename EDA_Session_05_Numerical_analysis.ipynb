{
 "cells": [
  {
   "cell_type": "code",
   "execution_count": 2,
   "id": "648d4e06-f57b-444d-b353-7c816804cf41",
   "metadata": {},
   "outputs": [],
   "source": [
    "import pandas as pd\n",
    "import numpy as np\n",
    "import matplotlib.pyplot as plt\n",
    "import seaborn as sns"
   ]
  },
  {
   "cell_type": "code",
   "execution_count": 3,
   "id": "b91178c7-eb68-44d8-9c6d-088acddf1fad",
   "metadata": {},
   "outputs": [
    {
     "data": {
      "text/html": [
       "<div>\n",
       "<style scoped>\n",
       "    .dataframe tbody tr th:only-of-type {\n",
       "        vertical-align: middle;\n",
       "    }\n",
       "\n",
       "    .dataframe tbody tr th {\n",
       "        vertical-align: top;\n",
       "    }\n",
       "\n",
       "    .dataframe thead th {\n",
       "        text-align: right;\n",
       "    }\n",
       "</style>\n",
       "<table border=\"1\" class=\"dataframe\">\n",
       "  <thead>\n",
       "    <tr style=\"text-align: right;\">\n",
       "      <th></th>\n",
       "      <th>case_id</th>\n",
       "      <th>continent</th>\n",
       "      <th>education_of_employee</th>\n",
       "      <th>has_job_experience</th>\n",
       "      <th>requires_job_training</th>\n",
       "      <th>no_of_employees</th>\n",
       "      <th>yr_of_estab</th>\n",
       "      <th>region_of_employment</th>\n",
       "      <th>prevailing_wage</th>\n",
       "      <th>unit_of_wage</th>\n",
       "      <th>full_time_position</th>\n",
       "      <th>case_status</th>\n",
       "    </tr>\n",
       "  </thead>\n",
       "  <tbody>\n",
       "    <tr>\n",
       "      <th>0</th>\n",
       "      <td>EZYV01</td>\n",
       "      <td>Asia</td>\n",
       "      <td>High School</td>\n",
       "      <td>N</td>\n",
       "      <td>N</td>\n",
       "      <td>14513</td>\n",
       "      <td>2007</td>\n",
       "      <td>West</td>\n",
       "      <td>592.2029</td>\n",
       "      <td>Hour</td>\n",
       "      <td>Y</td>\n",
       "      <td>Denied</td>\n",
       "    </tr>\n",
       "    <tr>\n",
       "      <th>1</th>\n",
       "      <td>EZYV02</td>\n",
       "      <td>Asia</td>\n",
       "      <td>Master's</td>\n",
       "      <td>Y</td>\n",
       "      <td>N</td>\n",
       "      <td>2412</td>\n",
       "      <td>2002</td>\n",
       "      <td>Northeast</td>\n",
       "      <td>83425.6500</td>\n",
       "      <td>Year</td>\n",
       "      <td>Y</td>\n",
       "      <td>Certified</td>\n",
       "    </tr>\n",
       "    <tr>\n",
       "      <th>2</th>\n",
       "      <td>EZYV03</td>\n",
       "      <td>Asia</td>\n",
       "      <td>Bachelor's</td>\n",
       "      <td>N</td>\n",
       "      <td>Y</td>\n",
       "      <td>44444</td>\n",
       "      <td>2008</td>\n",
       "      <td>West</td>\n",
       "      <td>122996.8600</td>\n",
       "      <td>Year</td>\n",
       "      <td>Y</td>\n",
       "      <td>Denied</td>\n",
       "    </tr>\n",
       "  </tbody>\n",
       "</table>\n",
       "</div>"
      ],
      "text/plain": [
       "  case_id continent education_of_employee has_job_experience  \\\n",
       "0  EZYV01      Asia           High School                  N   \n",
       "1  EZYV02      Asia              Master's                  Y   \n",
       "2  EZYV03      Asia            Bachelor's                  N   \n",
       "\n",
       "  requires_job_training  no_of_employees  yr_of_estab region_of_employment  \\\n",
       "0                     N            14513         2007                 West   \n",
       "1                     N             2412         2002            Northeast   \n",
       "2                     Y            44444         2008                 West   \n",
       "\n",
       "   prevailing_wage unit_of_wage full_time_position case_status  \n",
       "0         592.2029         Hour                  Y      Denied  \n",
       "1       83425.6500         Year                  Y   Certified  \n",
       "2      122996.8600         Year                  Y      Denied  "
      ]
     },
     "execution_count": 3,
     "metadata": {},
     "output_type": "execute_result"
    }
   ],
   "source": [
    "visa_df = pd.read_csv(r\"C:\\Users\\Owner\\OneDrive\\Documents\\NareshIT\\DataScience\\DataFiles\\Visadataset - Visadataset.csv\")\n",
    "visa_df.head(3)"
   ]
  },
  {
   "cell_type": "code",
   "execution_count": 4,
   "id": "39dbcca8-6bf9-4b5e-a5f2-4a13be8ec87a",
   "metadata": {},
   "outputs": [
    {
     "data": {
      "text/html": [
       "<div>\n",
       "<style scoped>\n",
       "    .dataframe tbody tr th:only-of-type {\n",
       "        vertical-align: middle;\n",
       "    }\n",
       "\n",
       "    .dataframe tbody tr th {\n",
       "        vertical-align: top;\n",
       "    }\n",
       "\n",
       "    .dataframe thead th {\n",
       "        text-align: right;\n",
       "    }\n",
       "</style>\n",
       "<table border=\"1\" class=\"dataframe\">\n",
       "  <thead>\n",
       "    <tr style=\"text-align: right;\">\n",
       "      <th></th>\n",
       "      <th>no_of_employees</th>\n",
       "      <th>yr_of_estab</th>\n",
       "      <th>prevailing_wage</th>\n",
       "    </tr>\n",
       "  </thead>\n",
       "  <tbody>\n",
       "    <tr>\n",
       "      <th>0</th>\n",
       "      <td>14513</td>\n",
       "      <td>2007</td>\n",
       "      <td>592.2029</td>\n",
       "    </tr>\n",
       "    <tr>\n",
       "      <th>1</th>\n",
       "      <td>2412</td>\n",
       "      <td>2002</td>\n",
       "      <td>83425.6500</td>\n",
       "    </tr>\n",
       "    <tr>\n",
       "      <th>2</th>\n",
       "      <td>44444</td>\n",
       "      <td>2008</td>\n",
       "      <td>122996.8600</td>\n",
       "    </tr>\n",
       "    <tr>\n",
       "      <th>3</th>\n",
       "      <td>98</td>\n",
       "      <td>1897</td>\n",
       "      <td>83434.0300</td>\n",
       "    </tr>\n",
       "    <tr>\n",
       "      <th>4</th>\n",
       "      <td>1082</td>\n",
       "      <td>2005</td>\n",
       "      <td>149907.3900</td>\n",
       "    </tr>\n",
       "  </tbody>\n",
       "</table>\n",
       "</div>"
      ],
      "text/plain": [
       "   no_of_employees  yr_of_estab  prevailing_wage\n",
       "0            14513         2007         592.2029\n",
       "1             2412         2002       83425.6500\n",
       "2            44444         2008      122996.8600\n",
       "3               98         1897       83434.0300\n",
       "4             1082         2005      149907.3900"
      ]
     },
     "execution_count": 4,
     "metadata": {},
     "output_type": "execute_result"
    }
   ],
   "source": [
    "visa_df.select_dtypes(exclude=\"object\").head()"
   ]
  },
  {
   "cell_type": "code",
   "execution_count": 5,
   "id": "f102006b-bbd8-4c99-8188-742647693f58",
   "metadata": {},
   "outputs": [
    {
     "name": "stdout",
     "output_type": "stream",
     "text": [
      "no_of_employees\n",
      "yr_of_estab\n",
      "prevailing_wage\n"
     ]
    }
   ],
   "source": [
    "c = visa_df.select_dtypes(exclude=\"object\").columns\n",
    "for i in c:\n",
    "    print(i)"
   ]
  },
  {
   "cell_type": "markdown",
   "id": "929a0c87-d988-42db-9b43-11c65d9d2c9b",
   "metadata": {},
   "source": [
    "**prevailing_wage**"
   ]
  },
  {
   "cell_type": "markdown",
   "id": "affd5030-c8ca-47af-aa18-db856135fa91",
   "metadata": {},
   "source": [
    "- len\n",
    "- max\n",
    "- min\n",
    "- mean\n",
    "- median\n",
    "- std\n",
    "- 75%\n",
    "- 50%\n",
    "- 25%"
   ]
  },
  {
   "cell_type": "markdown",
   "id": "f93ec4a5-ad32-4881-8f8d-5c8046afa0e3",
   "metadata": {},
   "source": [
    "**count/len**"
   ]
  },
  {
   "cell_type": "code",
   "execution_count": 6,
   "id": "1e2bc295-17be-44bd-bcac-e43a4f05e8d2",
   "metadata": {},
   "outputs": [
    {
     "data": {
      "text/plain": [
       "25480"
      ]
     },
     "execution_count": 6,
     "metadata": {},
     "output_type": "execute_result"
    }
   ],
   "source": [
    "len(visa_df.prevailing_wage)"
   ]
  },
  {
   "cell_type": "markdown",
   "id": "4e94715f-47bb-4fe9-8a28-4693e0e7642d",
   "metadata": {},
   "source": [
    " **max**"
   ]
  },
  {
   "cell_type": "code",
   "execution_count": 7,
   "id": "3cc09e9a-9ee4-4eea-b813-eb3b6d65eb68",
   "metadata": {},
   "outputs": [
    {
     "data": {
      "text/plain": [
       "319210.27"
      ]
     },
     "execution_count": 7,
     "metadata": {},
     "output_type": "execute_result"
    }
   ],
   "source": [
    "max(visa_df.prevailing_wage) # python keyword"
   ]
  },
  {
   "cell_type": "code",
   "execution_count": 8,
   "id": "de3e5be1-5456-4b56-88de-5ecc69e56643",
   "metadata": {},
   "outputs": [
    {
     "data": {
      "text/plain": [
       "319210.27"
      ]
     },
     "execution_count": 8,
     "metadata": {},
     "output_type": "execute_result"
    }
   ],
   "source": [
    "visa_df.prevailing_wage.max() # pandas"
   ]
  },
  {
   "cell_type": "code",
   "execution_count": 9,
   "id": "81fe2720-08c3-4b96-883c-2299ce1cdb8c",
   "metadata": {},
   "outputs": [
    {
     "data": {
      "text/plain": [
       "319210.27"
      ]
     },
     "execution_count": 9,
     "metadata": {},
     "output_type": "execute_result"
    }
   ],
   "source": [
    "np.max(visa_df.prevailing_wage) # numpy"
   ]
  },
  {
   "cell_type": "markdown",
   "id": "7d3aca3d-0fda-4443-b265-b073032ed18e",
   "metadata": {},
   "source": [
    "**min**"
   ]
  },
  {
   "cell_type": "code",
   "execution_count": 10,
   "id": "ea846081-a224-4157-8f14-383178154e44",
   "metadata": {},
   "outputs": [
    {
     "data": {
      "text/plain": [
       "2.1367"
      ]
     },
     "execution_count": 10,
     "metadata": {},
     "output_type": "execute_result"
    }
   ],
   "source": [
    "min(visa_df.prevailing_wage)"
   ]
  },
  {
   "cell_type": "code",
   "execution_count": 11,
   "id": "8eaddf40-c788-45cd-8d9f-7f58adeb0453",
   "metadata": {},
   "outputs": [
    {
     "data": {
      "text/plain": [
       "2.1367"
      ]
     },
     "execution_count": 11,
     "metadata": {},
     "output_type": "execute_result"
    }
   ],
   "source": [
    "visa_df.prevailing_wage.min()"
   ]
  },
  {
   "cell_type": "code",
   "execution_count": 12,
   "id": "8fa44d00-e8f8-4363-901a-21ad0b8fd0b7",
   "metadata": {},
   "outputs": [
    {
     "data": {
      "text/plain": [
       "2.1367"
      ]
     },
     "execution_count": 12,
     "metadata": {},
     "output_type": "execute_result"
    }
   ],
   "source": [
    "np.min(visa_df.prevailing_wage)"
   ]
  },
  {
   "cell_type": "markdown",
   "id": "91a1b143-1613-4201-afc9-f75d399555bf",
   "metadata": {},
   "source": [
    "**mean**"
   ]
  },
  {
   "cell_type": "code",
   "execution_count": 13,
   "id": "b1613449-bcaa-4fac-9732-570641e243b1",
   "metadata": {},
   "outputs": [
    {
     "data": {
      "text/plain": [
       "74455.81459209183"
      ]
     },
     "execution_count": 13,
     "metadata": {},
     "output_type": "execute_result"
    }
   ],
   "source": [
    "visa_df.prevailing_wage.mean()"
   ]
  },
  {
   "cell_type": "code",
   "execution_count": 14,
   "id": "6ab897b5-9490-44ce-8d90-bf440d9c940e",
   "metadata": {},
   "outputs": [
    {
     "data": {
      "text/plain": [
       "74455.81459209183"
      ]
     },
     "execution_count": 14,
     "metadata": {},
     "output_type": "execute_result"
    }
   ],
   "source": [
    "np.mean(visa_df.prevailing_wage)"
   ]
  },
  {
   "cell_type": "markdown",
   "id": "33c5e2ff-ea6a-4170-9ce2-eec035024e95",
   "metadata": {},
   "source": [
    "**median**"
   ]
  },
  {
   "cell_type": "code",
   "execution_count": 15,
   "id": "25b84374-ad3b-47a2-9d52-4977f74d13c9",
   "metadata": {},
   "outputs": [
    {
     "data": {
      "text/plain": [
       "70308.20999999999"
      ]
     },
     "execution_count": 15,
     "metadata": {},
     "output_type": "execute_result"
    }
   ],
   "source": [
    "visa_df.prevailing_wage.median()"
   ]
  },
  {
   "cell_type": "code",
   "execution_count": 16,
   "id": "b6a521fa-0f3e-463b-a00f-2f10168a3564",
   "metadata": {},
   "outputs": [
    {
     "data": {
      "text/plain": [
       "70308.20999999999"
      ]
     },
     "execution_count": 16,
     "metadata": {},
     "output_type": "execute_result"
    }
   ],
   "source": [
    "np.median(visa_df.prevailing_wage)"
   ]
  },
  {
   "cell_type": "markdown",
   "id": "cad1d6ba-ea7e-4e39-b375-c29aa596c4a7",
   "metadata": {},
   "source": [
    "**Standard devians**"
   ]
  },
  {
   "cell_type": "code",
   "execution_count": 17,
   "id": "44c5c5db-06da-4a2a-9b9a-cb18f064b72b",
   "metadata": {},
   "outputs": [
    {
     "data": {
      "text/plain": [
       "52815.94232687357"
      ]
     },
     "execution_count": 17,
     "metadata": {},
     "output_type": "execute_result"
    }
   ],
   "source": [
    "visa_df.prevailing_wage.std()"
   ]
  },
  {
   "cell_type": "code",
   "execution_count": 18,
   "id": "cf83874d-3c8e-4de1-bf73-2a6c9fe1f3a2",
   "metadata": {},
   "outputs": [
    {
     "data": {
      "text/plain": [
       "52814.90589711402"
      ]
     },
     "execution_count": 18,
     "metadata": {},
     "output_type": "execute_result"
    }
   ],
   "source": [
    "np.std(visa_df.prevailing_wage)"
   ]
  },
  {
   "cell_type": "code",
   "execution_count": 19,
   "id": "9367b221-9143-4ae8-a32f-bbc1ddca2075",
   "metadata": {},
   "outputs": [],
   "source": [
    "wage_lst = []\n",
    "\n",
    "wage_cnt = round(len(visa_df.prevailing_wage),2)\n",
    "wage_min = round(visa_df.prevailing_wage.min(),2)\n",
    "wage_max = round(visa_df.prevailing_wage.max(),2) \n",
    "wage_mean = round(visa_df.prevailing_wage.mean(),2)\n",
    "wage_median = round(visa_df.prevailing_wage.median(),2)\n",
    "wage_std = round(visa_df.prevailing_wage.std(),2)\n",
    "\n",
    "wage_lst = [wage_cnt,wage_min,wage_max,wage_mean,wage_median,wage_std]\n",
    "index = ['count','min','max','mean','median','std']"
   ]
  },
  {
   "cell_type": "code",
   "execution_count": 20,
   "id": "b04ddc4e-b4b9-4876-95fb-998ed69da335",
   "metadata": {},
   "outputs": [
    {
     "data": {
      "text/html": [
       "<div>\n",
       "<style scoped>\n",
       "    .dataframe tbody tr th:only-of-type {\n",
       "        vertical-align: middle;\n",
       "    }\n",
       "\n",
       "    .dataframe tbody tr th {\n",
       "        vertical-align: top;\n",
       "    }\n",
       "\n",
       "    .dataframe thead th {\n",
       "        text-align: right;\n",
       "    }\n",
       "</style>\n",
       "<table border=\"1\" class=\"dataframe\">\n",
       "  <thead>\n",
       "    <tr style=\"text-align: right;\">\n",
       "      <th></th>\n",
       "      <th>prevailing wage</th>\n",
       "    </tr>\n",
       "  </thead>\n",
       "  <tbody>\n",
       "    <tr>\n",
       "      <th>count</th>\n",
       "      <td>25480.00</td>\n",
       "    </tr>\n",
       "    <tr>\n",
       "      <th>min</th>\n",
       "      <td>2.14</td>\n",
       "    </tr>\n",
       "    <tr>\n",
       "      <th>max</th>\n",
       "      <td>319210.27</td>\n",
       "    </tr>\n",
       "    <tr>\n",
       "      <th>mean</th>\n",
       "      <td>74455.81</td>\n",
       "    </tr>\n",
       "    <tr>\n",
       "      <th>median</th>\n",
       "      <td>70308.21</td>\n",
       "    </tr>\n",
       "    <tr>\n",
       "      <th>std</th>\n",
       "      <td>52815.94</td>\n",
       "    </tr>\n",
       "  </tbody>\n",
       "</table>\n",
       "</div>"
      ],
      "text/plain": [
       "        prevailing wage\n",
       "count          25480.00\n",
       "min                2.14\n",
       "max           319210.27\n",
       "mean           74455.81\n",
       "median         70308.21\n",
       "std            52815.94"
      ]
     },
     "execution_count": 20,
     "metadata": {},
     "output_type": "execute_result"
    }
   ],
   "source": [
    "df = pd.DataFrame(data=wage_lst,index=index, columns=['prevailing wage'])\n",
    "df"
   ]
  },
  {
   "cell_type": "markdown",
   "id": "8b1421b2-f6f9-4d86-b65a-c251ca968956",
   "metadata": {},
   "source": [
    "**Percentile-Quantile**\n",
    "\n",
    "- percentile:\n",
    "\n",
    "   - np.percentile() -> it takes 2 parameters\n",
    "\n",
    "                          - data : a\n",
    "\n",
    "                          - percentile: q the value varies from 0 to 100\n",
    "  "
   ]
  },
  {
   "cell_type": "markdown",
   "id": "eab31f21-7ff7-4f44-a751-88d54f40fe93",
   "metadata": {},
   "source": [
    "- quantile:\n",
    "\n",
    "   - np.quantile() -> it takes 2 parameters\n",
    "\n",
    "                          - data : a\n",
    "\n",
    "                          - percentile: q the value varies from 0 to 1"
   ]
  },
  {
   "cell_type": "markdown",
   "id": "42e58e38-29a8-42fb-9889-34f64ccaeee7",
   "metadata": {},
   "source": [
    "**25p-50p-75p**"
   ]
  },
  {
   "cell_type": "code",
   "execution_count": 21,
   "id": "1c84c1ca-c0d7-41c5-8483-354702c02e73",
   "metadata": {},
   "outputs": [
    {
     "name": "stdout",
     "output_type": "stream",
     "text": [
      "25p data is 34015.48, 50p data is 70308.21, 75p data is 107735.51 \n"
     ]
    }
   ],
   "source": [
    "wage_25p = round(np.percentile(visa_df.prevailing_wage, 25),2)\n",
    "wage_50p = round(np.percentile(visa_df.prevailing_wage, 50),2)\n",
    "wage_75p = round(np.percentile(visa_df.prevailing_wage, 75),2)\n",
    "\n",
    "print(f\"25p data is {wage_25p}, 50p data is {wage_50p}, 75p data is {wage_75p} \")"
   ]
  },
  {
   "cell_type": "code",
   "execution_count": 22,
   "id": "738b275d-6301-48fb-83f4-0e1776dd1a5f",
   "metadata": {},
   "outputs": [
    {
     "name": "stdout",
     "output_type": "stream",
     "text": [
      "25q data is 34015.48, 50q data is 70308.21, 75q data is 107735.51 \n"
     ]
    }
   ],
   "source": [
    "wage_25q = round(np.quantile(visa_df.prevailing_wage, 0.25),2)\n",
    "wage_50q = round(np.quantile(visa_df.prevailing_wage, 0.50),2)\n",
    "wage_75q = round(np.quantile(visa_df.prevailing_wage, 0.75),2)\n",
    "\n",
    "print(f\"25q data is {wage_25q}, 50q data is {wage_50q}, 75q data is {wage_75q} \")"
   ]
  },
  {
   "cell_type": "markdown",
   "id": "12cc363d-dfb4-4744-a298-9321384b6aad",
   "metadata": {},
   "source": [
    "**Understand the percentile**\n",
    "\n",
    "- definition of 25 percentile\n",
    "\n",
    "  - it means 25% of employees has salary less than 34015, i.e total emp = 25480\n",
    "  - 25% of empl = 5370, i.e. 6370 employees salary is lessthan 34015"
   ]
  },
  {
   "cell_type": "code",
   "execution_count": 23,
   "id": "70f221ce-3aab-455a-95e3-1139fc339fac",
   "metadata": {},
   "outputs": [
    {
     "data": {
      "text/plain": [
       "6370"
      ]
     },
     "execution_count": 23,
     "metadata": {},
     "output_type": "execute_result"
    }
   ],
   "source": [
    "cnt25 = visa_df.prevailing_wage < wage_25q\n",
    "len(visa_df[cnt25])"
   ]
  },
  {
   "cell_type": "code",
   "execution_count": 24,
   "id": "111aaa79-2e81-477a-8588-eea890911271",
   "metadata": {},
   "outputs": [
    {
     "data": {
      "text/plain": [
       "12740"
      ]
     },
     "execution_count": 24,
     "metadata": {},
     "output_type": "execute_result"
    }
   ],
   "source": [
    "cnt50 = visa_df.prevailing_wage < wage_50p\t\n",
    "len(visa_df[cnt50])"
   ]
  },
  {
   "cell_type": "code",
   "execution_count": 25,
   "id": "54a2d12d-ebaa-451f-b923-d49f29ae6c63",
   "metadata": {},
   "outputs": [
    {
     "data": {
      "text/plain": [
       "19110"
      ]
     },
     "execution_count": 25,
     "metadata": {},
     "output_type": "execute_result"
    }
   ],
   "source": [
    "cnt75 = visa_df.prevailing_wage < wage_75p\n",
    "len(visa_df[cnt75])"
   ]
  },
  {
   "cell_type": "markdown",
   "id": "cff1933d-a2b1-4eb2-8dc6-abe50e0055d0",
   "metadata": {},
   "source": [
    "**Emperical rule 68-95-99.7**"
   ]
  },
  {
   "cell_type": "code",
   "execution_count": null,
   "id": "c48f4a60-9c1c-426d-ad66-1518991a3229",
   "metadata": {},
   "outputs": [],
   "source": []
  },
  {
   "cell_type": "markdown",
   "id": "3f90a821-c5d0-410d-a24e-61d81d1ffc77",
   "metadata": {},
   "source": [
    "<img src=\"https://ucarecdn.com/ec7964b6-6cb1-4745-8a79-73e52e0677bc/\" jsaction=\"VQAsE\" class=\"sFlh5c pT0Scc iPVvYb\" alt=\"Empirical rule · Hyperskill\" jsname=\"kn3ccd\" aria-hidden=\"false\">"
   ]
  },
  {
   "cell_type": "markdown",
   "id": "b4c28807-fcd8-44b6-a3e6-5d23be942059",
   "metadata": {},
   "source": [
    "- First calculate mean value\n",
    "\n",
    "- second calculate std value\n",
    "\n",
    "- con1 : mean-1*std\n",
    "\n",
    "- con2 : mean+1*std\n",
    "\n",
    "- if we apply above conditions on wage data, the output count should be equal to 68p data\n",
    "\n",
    "- i.e. 68% of total employees : 17326"
   ]
  },
  {
   "cell_type": "code",
   "execution_count": 26,
   "id": "c41e35f2-659e-4f8e-8a8c-4ccd5684ffc3",
   "metadata": {},
   "outputs": [
    {
     "data": {
      "text/plain": [
       "17171"
      ]
     },
     "execution_count": 26,
     "metadata": {},
     "output_type": "execute_result"
    }
   ],
   "source": [
    "v1 = wage_mean-1*wage_std\n",
    "v2 = wage_mean+1*wage_std\n",
    "v1,v2\n",
    "cond1 = visa_df.prevailing_wage > v1\n",
    "cond2 = visa_df.prevailing_wage < v2\n",
    "d = visa_df[cond1 & cond2]\n",
    "len(d)"
   ]
  },
  {
   "cell_type": "code",
   "execution_count": 27,
   "id": "dd5213bb-3538-4ea9-8644-6c7c6f98b3cf",
   "metadata": {},
   "outputs": [
    {
     "data": {
      "text/plain": [
       "(24582, 24206.0)"
      ]
     },
     "execution_count": 27,
     "metadata": {},
     "output_type": "execute_result"
    }
   ],
   "source": [
    "u1 = wage_mean-2*wage_std\n",
    "u2 = wage_mean+2*wage_std\n",
    "u1,u2\n",
    "con1 = visa_df.prevailing_wage > u1\n",
    "con2 = visa_df.prevailing_wage < u2\n",
    "d = visa_df[con1 & con2]\n",
    "len(d), 95*25480/100"
   ]
  },
  {
   "cell_type": "code",
   "execution_count": 28,
   "id": "9ae08359-5f17-4edd-b426-0fc80fcd6c23",
   "metadata": {},
   "outputs": [
    {
     "data": {
      "text/plain": [
       "(25186, 25403.56)"
      ]
     },
     "execution_count": 28,
     "metadata": {},
     "output_type": "execute_result"
    }
   ],
   "source": [
    "w1 = wage_mean-3*wage_std\n",
    "w2 = wage_mean+3*wage_std\n",
    "w1,w2\n",
    "con1 = visa_df.prevailing_wage > w1\n",
    "con2 = visa_df.prevailing_wage < w2\n",
    "d = visa_df[con1 & con2]\n",
    "len(d), 99.7*25480/100"
   ]
  },
  {
   "cell_type": "code",
   "execution_count": 30,
   "id": "89ebcb22-e74e-446d-932a-249cf0f9ff10",
   "metadata": {},
   "outputs": [
    {
     "data": {
      "text/html": [
       "<div>\n",
       "<style scoped>\n",
       "    .dataframe tbody tr th:only-of-type {\n",
       "        vertical-align: middle;\n",
       "    }\n",
       "\n",
       "    .dataframe tbody tr th {\n",
       "        vertical-align: top;\n",
       "    }\n",
       "\n",
       "    .dataframe thead th {\n",
       "        text-align: right;\n",
       "    }\n",
       "</style>\n",
       "<table border=\"1\" class=\"dataframe\">\n",
       "  <thead>\n",
       "    <tr style=\"text-align: right;\">\n",
       "      <th></th>\n",
       "      <th>prevailing wage</th>\n",
       "    </tr>\n",
       "  </thead>\n",
       "  <tbody>\n",
       "    <tr>\n",
       "      <th>count</th>\n",
       "      <td>25480.00</td>\n",
       "    </tr>\n",
       "    <tr>\n",
       "      <th>min</th>\n",
       "      <td>2.14</td>\n",
       "    </tr>\n",
       "    <tr>\n",
       "      <th>max</th>\n",
       "      <td>319210.27</td>\n",
       "    </tr>\n",
       "    <tr>\n",
       "      <th>mean</th>\n",
       "      <td>74455.81</td>\n",
       "    </tr>\n",
       "    <tr>\n",
       "      <th>median</th>\n",
       "      <td>70308.21</td>\n",
       "    </tr>\n",
       "    <tr>\n",
       "      <th>std</th>\n",
       "      <td>52815.94</td>\n",
       "    </tr>\n",
       "    <tr>\n",
       "      <th>25%</th>\n",
       "      <td>34015.48</td>\n",
       "    </tr>\n",
       "    <tr>\n",
       "      <th>50%</th>\n",
       "      <td>70308.21</td>\n",
       "    </tr>\n",
       "    <tr>\n",
       "      <th>75%</th>\n",
       "      <td>107735.51</td>\n",
       "    </tr>\n",
       "  </tbody>\n",
       "</table>\n",
       "</div>"
      ],
      "text/plain": [
       "        prevailing wage\n",
       "count          25480.00\n",
       "min                2.14\n",
       "max           319210.27\n",
       "mean           74455.81\n",
       "median         70308.21\n",
       "std            52815.94\n",
       "25%            34015.48\n",
       "50%            70308.21\n",
       "75%           107735.51"
      ]
     },
     "execution_count": 30,
     "metadata": {},
     "output_type": "execute_result"
    }
   ],
   "source": [
    "wage_cnt = round(len(visa_df.prevailing_wage),2)\n",
    "wage_min = round(visa_df.prevailing_wage.min(),2)\n",
    "wage_max = round(visa_df.prevailing_wage.max(),2) \n",
    "wage_mean = round(visa_df.prevailing_wage.mean(),2)\n",
    "wage_median = round(visa_df.prevailing_wage.median(),2)\n",
    "wage_std = round(visa_df.prevailing_wage.std(),2)\n",
    "\n",
    "wage_25p = round(np.percentile(visa_df.prevailing_wage, 25),2)\n",
    "wage_50p = round(np.percentile(visa_df.prevailing_wage, 50),2)\n",
    "wage_75p = round(np.percentile(visa_df.prevailing_wage, 75),2)\n",
    "\n",
    "wage_lst = [wage_cnt,wage_min,wage_max,wage_mean,wage_median,wage_std,wage_25p,wage_50p,wage_75p]\n",
    "index = ['count','min','max','mean','median','std','25%','50%','75%']\n",
    "pd.DataFrame(data=wage_lst,index=index,columns=['prevailing wage']) "
   ]
  },
  {
   "cell_type": "markdown",
   "id": "d7c874be-b918-4259-96f1-7d849d2cda92",
   "metadata": {},
   "source": [
    "**no_of_employees**"
   ]
  },
  {
   "cell_type": "code",
   "execution_count": 31,
   "id": "e45e8aed-3343-4771-9950-8f79293f4d45",
   "metadata": {},
   "outputs": [
    {
     "data": {
      "text/plain": [
       "0        14513\n",
       "1         2412\n",
       "2        44444\n",
       "3           98\n",
       "4         1082\n",
       "         ...  \n",
       "25475     2601\n",
       "25476     3274\n",
       "25477     1121\n",
       "25478     1918\n",
       "25479     3195\n",
       "Name: no_of_employees, Length: 25480, dtype: int64"
      ]
     },
     "execution_count": 31,
     "metadata": {},
     "output_type": "execute_result"
    }
   ],
   "source": [
    "visa_df.no_of_employees"
   ]
  },
  {
   "cell_type": "code",
   "execution_count": 90,
   "id": "69e24aa4-a015-4b17-b0f6-0598844c6660",
   "metadata": {},
   "outputs": [],
   "source": [
    "# len\n",
    "emp_cnt = round(len(visa_df.no_of_employees),2)\n",
    "emp_min = round(visa_df.no_of_employees.min()\n",
    "emp_max = round(visa_df.no_of_employees.max()\n",
    "emp_mean = round(visa_df.no_of_employees.mean()\n",
    "emp_median = round(visa_df.no_of_employees.median()\n",
    "emp_std = round(visa_df.no_of_employees.std()\n",
    "\n",
    "emp_25p = visa_df.no_of_employees"
   ]
  },
  {
   "cell_type": "code",
   "execution_count": 34,
   "id": "bff246ca-2f02-445a-9104-a355011679df",
   "metadata": {},
   "outputs": [
    {
     "data": {
      "text/html": [
       "<div>\n",
       "<style scoped>\n",
       "    .dataframe tbody tr th:only-of-type {\n",
       "        vertical-align: middle;\n",
       "    }\n",
       "\n",
       "    .dataframe tbody tr th {\n",
       "        vertical-align: top;\n",
       "    }\n",
       "\n",
       "    .dataframe thead th {\n",
       "        text-align: right;\n",
       "    }\n",
       "</style>\n",
       "<table border=\"1\" class=\"dataframe\">\n",
       "  <thead>\n",
       "    <tr style=\"text-align: right;\">\n",
       "      <th></th>\n",
       "      <th>no_of_employees</th>\n",
       "      <th>yr_of_estab</th>\n",
       "      <th>prevailing_wage</th>\n",
       "    </tr>\n",
       "  </thead>\n",
       "  <tbody>\n",
       "    <tr>\n",
       "      <th>count</th>\n",
       "      <td>25480.00</td>\n",
       "      <td>25480.00</td>\n",
       "      <td>25480.00</td>\n",
       "    </tr>\n",
       "    <tr>\n",
       "      <th>min</th>\n",
       "      <td>-26.00</td>\n",
       "      <td>1800.00</td>\n",
       "      <td>2.14</td>\n",
       "    </tr>\n",
       "    <tr>\n",
       "      <th>max</th>\n",
       "      <td>602069.00</td>\n",
       "      <td>2016.00</td>\n",
       "      <td>319210.27</td>\n",
       "    </tr>\n",
       "    <tr>\n",
       "      <th>mean</th>\n",
       "      <td>5667.04</td>\n",
       "      <td>1979.41</td>\n",
       "      <td>74455.81</td>\n",
       "    </tr>\n",
       "    <tr>\n",
       "      <th>std</th>\n",
       "      <td>22877.93</td>\n",
       "      <td>42.37</td>\n",
       "      <td>52815.94</td>\n",
       "    </tr>\n",
       "    <tr>\n",
       "      <th>25%</th>\n",
       "      <td>1022.00</td>\n",
       "      <td>1976.00</td>\n",
       "      <td>34015.48</td>\n",
       "    </tr>\n",
       "    <tr>\n",
       "      <th>50%</th>\n",
       "      <td>2109.00</td>\n",
       "      <td>1997.00</td>\n",
       "      <td>70308.21</td>\n",
       "    </tr>\n",
       "    <tr>\n",
       "      <th>75%</th>\n",
       "      <td>3504.00</td>\n",
       "      <td>2005.00</td>\n",
       "      <td>107735.51</td>\n",
       "    </tr>\n",
       "  </tbody>\n",
       "</table>\n",
       "</div>"
      ],
      "text/plain": [
       "       no_of_employees  yr_of_estab  prevailing_wage\n",
       "count         25480.00     25480.00         25480.00\n",
       "min             -26.00      1800.00             2.14\n",
       "max          602069.00      2016.00        319210.27\n",
       "mean           5667.04      1979.41         74455.81\n",
       "std           22877.93        42.37         52815.94\n",
       "25%            1022.00      1976.00         34015.48\n",
       "50%            2109.00      1997.00         70308.21\n",
       "75%            3504.00      2005.00        107735.51"
      ]
     },
     "execution_count": 34,
     "metadata": {},
     "output_type": "execute_result"
    }
   ],
   "source": [
    "col = list(visa_df.select_dtypes(exclude='object').columns)\n",
    "l1 = []\n",
    "for i in col:\n",
    "    cnt = round(len(visa_df[i]),2)\n",
    "    mini = round(visa_df[i].min(),2)\n",
    "    maxi = round(visa_df[i].max(),2)\n",
    "    mean = round(visa_df[i].mean(),2)\n",
    "    std = round(visa_df[i].std(),2)\n",
    "    p25 = round(np.percentile(visa_df[i], 25),2)\n",
    "    p50 = round(np.percentile(visa_df[i], 50),2)\n",
    "    p75 = round(np.percentile(visa_df[i], 75),2)\n",
    "    l1.append([cnt,mini,maxi,mean,std,p25,p50,p75])\n",
    "    \n",
    "    #pd.DataFrame(data=lst, index=index,columns=[i])\n",
    "\n",
    "l1\n",
    "index = ['count','min','max','mean','std','25%','50%','75%']\n",
    "pd.DataFrame(l1)\n",
    "pd.DataFrame(l1, columns=index, index = col).T"
   ]
  },
  {
   "cell_type": "markdown",
   "id": "2d83de38-42f5-4c89-ab3a-c64522f48bd4",
   "metadata": {},
   "source": [
    "**Describe**"
   ]
  },
  {
   "cell_type": "code",
   "execution_count": 33,
   "id": "8878dfec-8cea-4a29-89dd-5f40c5a7e444",
   "metadata": {},
   "outputs": [
    {
     "data": {
      "text/html": [
       "<div>\n",
       "<style scoped>\n",
       "    .dataframe tbody tr th:only-of-type {\n",
       "        vertical-align: middle;\n",
       "    }\n",
       "\n",
       "    .dataframe tbody tr th {\n",
       "        vertical-align: top;\n",
       "    }\n",
       "\n",
       "    .dataframe thead th {\n",
       "        text-align: right;\n",
       "    }\n",
       "</style>\n",
       "<table border=\"1\" class=\"dataframe\">\n",
       "  <thead>\n",
       "    <tr style=\"text-align: right;\">\n",
       "      <th></th>\n",
       "      <th>no_of_employees</th>\n",
       "      <th>yr_of_estab</th>\n",
       "      <th>prevailing_wage</th>\n",
       "    </tr>\n",
       "  </thead>\n",
       "  <tbody>\n",
       "    <tr>\n",
       "      <th>count</th>\n",
       "      <td>25480.000000</td>\n",
       "      <td>25480.000000</td>\n",
       "      <td>25480.000000</td>\n",
       "    </tr>\n",
       "    <tr>\n",
       "      <th>mean</th>\n",
       "      <td>5667.043210</td>\n",
       "      <td>1979.409929</td>\n",
       "      <td>74455.814592</td>\n",
       "    </tr>\n",
       "    <tr>\n",
       "      <th>std</th>\n",
       "      <td>22877.928848</td>\n",
       "      <td>42.366929</td>\n",
       "      <td>52815.942327</td>\n",
       "    </tr>\n",
       "    <tr>\n",
       "      <th>min</th>\n",
       "      <td>-26.000000</td>\n",
       "      <td>1800.000000</td>\n",
       "      <td>2.136700</td>\n",
       "    </tr>\n",
       "    <tr>\n",
       "      <th>25%</th>\n",
       "      <td>1022.000000</td>\n",
       "      <td>1976.000000</td>\n",
       "      <td>34015.480000</td>\n",
       "    </tr>\n",
       "    <tr>\n",
       "      <th>50%</th>\n",
       "      <td>2109.000000</td>\n",
       "      <td>1997.000000</td>\n",
       "      <td>70308.210000</td>\n",
       "    </tr>\n",
       "    <tr>\n",
       "      <th>75%</th>\n",
       "      <td>3504.000000</td>\n",
       "      <td>2005.000000</td>\n",
       "      <td>107735.512500</td>\n",
       "    </tr>\n",
       "    <tr>\n",
       "      <th>max</th>\n",
       "      <td>602069.000000</td>\n",
       "      <td>2016.000000</td>\n",
       "      <td>319210.270000</td>\n",
       "    </tr>\n",
       "  </tbody>\n",
       "</table>\n",
       "</div>"
      ],
      "text/plain": [
       "       no_of_employees   yr_of_estab  prevailing_wage\n",
       "count     25480.000000  25480.000000     25480.000000\n",
       "mean       5667.043210   1979.409929     74455.814592\n",
       "std       22877.928848     42.366929     52815.942327\n",
       "min         -26.000000   1800.000000         2.136700\n",
       "25%        1022.000000   1976.000000     34015.480000\n",
       "50%        2109.000000   1997.000000     70308.210000\n",
       "75%        3504.000000   2005.000000    107735.512500\n",
       "max      602069.000000   2016.000000    319210.270000"
      ]
     },
     "execution_count": 33,
     "metadata": {},
     "output_type": "execute_result"
    }
   ],
   "source": [
    "visa_df.describe()"
   ]
  },
  {
   "cell_type": "markdown",
   "id": "87bf134c-0af8-4cbd-85d2-053417b3481d",
   "metadata": {},
   "source": [
    "**Histogram**\n",
    "\n",
    "- We can get histogram from matplotlib\n",
    "\n",
    "- We can get histogram from seaborn\n",
    "\n",
    "- plt.hist\n",
    "\n",
    "- Histogram will give 3 outputs\n",
    "\n",
    "    - frequency : in each interval how many observations are there\n",
    "    - interval\n",
    "    - number of intervals"
   ]
  },
  {
   "cell_type": "code",
   "execution_count": 40,
   "id": "f1cc49da-a030-4a9a-831e-9cb7c11333f4",
   "metadata": {},
   "outputs": [
    {
     "data": {
      "text/plain": [
       "(array([6038., 5504., 5681., 4551., 2334.,  624.,  373.,  240.,  114.,\n",
       "          21.]),\n",
       " array([2.13670000e+00, 3.19229500e+04, 6.38437634e+04, 9.57645767e+04,\n",
       "        1.27685390e+05, 1.59606203e+05, 1.91527017e+05, 2.23447830e+05,\n",
       "        2.55368643e+05, 2.87289457e+05, 3.19210270e+05]),\n",
       " <BarContainer object of 10 artists>)"
      ]
     },
     "execution_count": 40,
     "metadata": {},
     "output_type": "execute_result"
    },
    {
     "data": {
      "image/png": "[encoded data removed]",
      "text/plain": [
       "<Figure size 640x480 with 1 Axes>"
      ]
     },
     "metadata": {},
     "output_type": "display_data"
    }
   ],
   "source": [
    "plt.hist(visa_df['prevailing_wage'])"
   ]
  },
  {
   "cell_type": "code",
   "execution_count": 38,
   "id": "994fcaf2-0322-48ef-89a3-0b3134bcb4bf",
   "metadata": {},
   "outputs": [
    {
     "data": {
      "image/png": "[encoded data removed]",
      "text/plain": [
       "<Figure size 640x480 with 1 Axes>"
      ]
     },
     "metadata": {},
     "output_type": "display_data"
    }
   ],
   "source": [
    "plt.hist(visa_df['no_of_employees'])\n",
    "plt.show()"
   ]
  },
  {
   "cell_type": "code",
   "execution_count": 39,
   "id": "c07c02f0-cea3-4b79-a96d-1afeb6ab1d2e",
   "metadata": {},
   "outputs": [
    {
     "data": {
      "text/plain": [
       "(array([  164.,   341.,   522.,   705.,   601.,   836.,   977.,  1818.,\n",
       "         5424., 14092.]),\n",
       " array([1800. , 1821.6, 1843.2, 1864.8, 1886.4, 1908. , 1929.6, 1951.2,\n",
       "        1972.8, 1994.4, 2016. ]),\n",
       " <BarContainer object of 10 artists>)"
      ]
     },
     "execution_count": 39,
     "metadata": {},
     "output_type": "execute_result"
    },
    {
     "data": {
      "image/png": "[encoded data removed]",
      "text/plain": [
       "<Figure size 640x480 with 1 Axes>"
      ]
     },
     "metadata": {},
     "output_type": "display_data"
    }
   ],
   "source": [
    "plt.hist(visa_df['yr_of_estab'])"
   ]
  },
  {
   "cell_type": "markdown",
   "id": "0ad9f980-f016-4b3a-864f-a06399a0f26e",
   "metadata": {},
   "source": [
    "**Check point -1**"
   ]
  },
  {
   "cell_type": "code",
   "execution_count": 43,
   "id": "f01ddca0-1bf5-415f-9a5c-7dbb6dcd005f",
   "metadata": {},
   "outputs": [
    {
     "data": {
      "text/plain": [
       "6038"
      ]
     },
     "execution_count": 43,
     "metadata": {},
     "output_type": "execute_result"
    }
   ],
   "source": [
    "con1 = visa_df['prevailing_wage'] >= 2.13670000e+00 \n",
    "con2 = visa_df['prevailing_wage'] < 3.19229500e+04\n",
    "len(visa_df[con1 & con2])"
   ]
  },
  {
   "cell_type": "markdown",
   "id": "8c12bd71-96b4-47fd-8436-25327b536980",
   "metadata": {},
   "source": [
    "**bins**"
   ]
  },
  {
   "cell_type": "code",
   "execution_count": 45,
   "id": "45fa494c-3d7b-4ee9-9151-fbba3b5fbfb9",
   "metadata": {},
   "outputs": [
    {
     "name": "stdout",
     "output_type": "stream",
     "text": [
      "<BarContainer object of 100 artists>\n"
     ]
    },
    {
     "data": {
      "image/png": "[encoded data removed]",
      "text/plain": [
       "<Figure size 640x480 with 1 Axes>"
      ]
     },
     "metadata": {},
     "output_type": "display_data"
    }
   ],
   "source": [
    "f,i,n = plt.hist(visa_df['prevailing_wage'], bins=100)\n",
    "print(n)"
   ]
  },
  {
   "cell_type": "code",
   "execution_count": 54,
   "id": "5e332e3b-53ab-4d3c-b608-e24278338ec3",
   "metadata": {},
   "outputs": [
    {
     "data": {
      "text/plain": [
       "Text(0, 0.5, 'count')"
      ]
     },
     "execution_count": 54,
     "metadata": {},
     "output_type": "execute_result"
    },
    {
     "data": {
      "image/png": "[encoded data removed]",
      "text/plain": [
       "<Figure size 1800x300 with 3 Axes>"
      ]
     },
     "metadata": {},
     "output_type": "display_data"
    }
   ],
   "source": [
    "plt.figure(figsize=(18,3))\n",
    "plt.subplot(1,3,1)\n",
    "plt.hist(visa_df['prevailing_wage'], bins=30)\n",
    "plt.title(\"Prevailing wage graph\")\n",
    "plt.xlabel(\"intervals\")\n",
    "plt.ylabel(\"count\")\n",
    "\n",
    "plt.subplot(1,3,2)\n",
    "plt.hist(visa_df['no_of_employees'], bins=30)\n",
    "plt.title(\"no_of_employees graph\")\n",
    "plt.xlabel(\"intervals\")\n",
    "plt.ylabel(\"count\")\n",
    "\n",
    "plt.subplot(1,3,3)\n",
    "plt.hist(visa_df['yr_of_estab'], bins=30)\n",
    "plt.title(\"yr_of_estab graph\")\n",
    "plt.xlabel(\"intervals\")\n",
    "plt.ylabel(\"count\")"
   ]
  },
  {
   "cell_type": "code",
   "execution_count": 61,
   "id": "8cf888ab-785d-46ae-84b0-33ca3a64938e",
   "metadata": {},
   "outputs": [
    {
     "data": {
      "image/png": "[encoded data removed]",
      "text/plain": [
       "<Figure size 1800x300 with 3 Axes>"
      ]
     },
     "metadata": {},
     "output_type": "display_data"
    }
   ],
   "source": [
    "plt.figure(figsize=(18,3))\n",
    "cols = visa_df.select_dtypes(exclude='object').columns\n",
    "for i in range(len(cols)):\n",
    "    plt.subplot(1,len(cols),i+1)\n",
    "    plt.hist(visa_df[cols[i]], bins=30)\n",
    "    plt.title(f\"Histogram of {cols[i]}\")\n",
    "    plt.xlabel(\"intervals\")\n",
    "    plt.ylabel(\"count\")"
   ]
  },
  {
   "cell_type": "markdown",
   "id": "176a92bf-16a9-445a-b4ae-c1bc3e96917e",
   "metadata": {},
   "source": [
    "**Histogram using seaborn**\n",
    "\n",
    "- histplot :histogram\n",
    "- distplot : distribution\n",
    "\n",
    "- to avoid warnings: import warnings"
   ]
  },
  {
   "cell_type": "code",
   "execution_count": 66,
   "id": "78d6ea9e-cb79-42a0-8ba8-ee036efafea1",
   "metadata": {},
   "outputs": [
    {
     "data": {
      "text/plain": [
       "<Axes: xlabel='yr_of_estab', ylabel='Count'>"
      ]
     },
     "execution_count": 66,
     "metadata": {},
     "output_type": "execute_result"
    },
    {
     "data": {
      "image/png": "[encoded data removed]",
      "text/plain": [
       "<Figure size 640x480 with 1 Axes>"
      ]
     },
     "metadata": {},
     "output_type": "display_data"
    }
   ],
   "source": [
    "import warnings\n",
    "warnings.filterwarnings(\"ignore\")\n",
    "sns.histplot(visa_df['yr_of_estab'])"
   ]
  },
  {
   "cell_type": "code",
   "execution_count": 67,
   "id": "d08ed705-238d-4ceb-a8bd-58143a7978ff",
   "metadata": {},
   "outputs": [
    {
     "data": {
      "text/plain": [
       "<Axes: xlabel='yr_of_estab', ylabel='Density'>"
      ]
     },
     "execution_count": 67,
     "metadata": {},
     "output_type": "execute_result"
    },
    {
     "data": {
      "image/png": "[encoded data removed]",
      "text/plain": [
       "<Figure size 640x480 with 1 Axes>"
      ]
     },
     "metadata": {},
     "output_type": "display_data"
    }
   ],
   "source": [
    "import warnings\n",
    "warnings.filterwarnings(\"ignore\")\n",
    "sns.distplot(visa_df['yr_of_estab'])"
   ]
  },
  {
   "cell_type": "code",
   "execution_count": 70,
   "id": "3ce60297-90f5-468c-ad71-6655e48787eb",
   "metadata": {},
   "outputs": [
    {
     "data": {
      "image/png": "[encoded data removed]",
      "text/plain": [
       "<Figure size 1800x300 with 3 Axes>"
      ]
     },
     "metadata": {},
     "output_type": "display_data"
    }
   ],
   "source": [
    "plt.figure(figsize=(18,3))\n",
    "cols = visa_df.select_dtypes(exclude='object').columns\n",
    "for i in range(len(cols)):\n",
    "    plt.subplot(1,len(cols),i+1)\n",
    "    sns.histplot(visa_df[cols[i]], bins=30)\n",
    "    plt.title(f\"Histogram of {cols[i]}\")"
   ]
  },
  {
   "cell_type": "code",
   "execution_count": null,
   "id": "dbd2ef82-e18a-4d34-9498-4d80c59cf2e9",
   "metadata": {},
   "outputs": [],
   "source": []
  }
 ],
 "metadata": {
  "kernelspec": {
   "display_name": "Python 3 (ipykernel)",
   "language": "python",
   "name": "python3"
  },
  "language_info": {
   "codemirror_mode": {
    "name": "ipython",
    "version": 3
   },
   "file_extension": ".py",
   "mimetype": "text/x-python",
   "name": "python",
   "nbconvert_exporter": "python",
   "pygments_lexer": "ipython3",
   "version": "3.11.7"
  }
 },
 "nbformat": 4,
 "nbformat_minor": 5
}
